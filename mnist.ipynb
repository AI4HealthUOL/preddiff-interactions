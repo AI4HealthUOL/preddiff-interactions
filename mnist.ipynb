{
 "cells": [
  {
   "cell_type": "markdown",
   "metadata": {
    "collapsed": true,
    "pycharm": {
     "name": "#%% md\n"
    }
   },
   "source": [
    "# MNIST"
   ]
  },
  {
   "cell_type": "code",
   "execution_count": null,
   "metadata": {
    "pycharm": {
     "name": "#%%\n"
    }
   },
   "outputs": [],
   "source": [
    "import numpy as np\n",
    "import matplotlib.pyplot as plt\n",
    "import torch\n",
    "\n",
    "import functools\n",
    "\n",
    "from pred_diff import preddiff, shapley\n",
    "from pred_diff.imputers import vae_impute, general_imputers\n",
    "from pred_diff.tools import utils_mnist as ut_mnist\n",
    "from pred_diff.tools import init_plt\n",
    "from main_MNIST import generate_superpixel_slic_mnist, visualize_mnist_attributions, calculate_attributions_mnist\n",
    "\n",
    "%load_ext autoreload\n",
    "%autoreload 2"
   ]
  },
  {
   "cell_type": "code",
   "execution_count": 2,
   "metadata": {
    "pycharm": {
     "name": "#%%\n"
    }
   },
   "outputs": [],
   "source": [
    "# paper style\n",
    "# init_plt.update_rcParams(fig_width_pt=234.88*2)\n",
    "\n",
    "# default\n",
    "plt.style.use('default')\n"
   ]
  },
  {
   "cell_type": "code",
   "execution_count": 17,
   "metadata": {},
   "outputs": [],
   "source": [
    "from dataclasses import dataclass\n",
    "\n",
    "@dataclass\n",
    "class Args:\n",
    "    n_imputations: int  = 1\n",
    "    n_images: int = 2\n",
    "    imputer: str = 'TrainSet'        # choices=['TrainSet', 'VAEImputer']\n",
    "    explainer: str = 'Shapley'      # choices=['PredDiff', 'Shapley']\n",
    "    n_segments: int = 25            # approximately number of superpixel\n",
    "    n_shapley_coalitions: int = 200\n",
    "    \n",
    "    # __internal__ parameters\n",
    "    compactness: float = 0.5           # hyperparameter for SLIC\n",
    "    n_group: int = 200\n",
    "    interaction: bool = True\n",
    "    random_interaction_pixel: bool = False\n",
    "    n_interaction_pixel: int = 1   # for how many of the most relevant segments interactions will be evaluated\n",
    "\n",
    "args = Args()"
   ]
  },
  {
   "cell_type": "code",
   "execution_count": 18,
   "metadata": {},
   "outputs": [
    {
     "name": "stdout",
     "output_type": "stream",
     "text": [
      "load model\n",
      "image 0 of 2 total\n"
     ]
    },
    {
     "name": "stderr",
     "output_type": "stream",
     "text": [
      "\r",
      "shapley values:   0%|          | 0/23 [00:00<?, ?it/s]"
     ]
    },
    {
     "data": {
      "application/vnd.jupyter.widget-view+json": {
       "model_id": "fd3eed68932849dcac04f2b2844d6ed2",
       "version_major": 2,
       "version_minor": 0
      },
      "text/plain": [
       "Relevance:   0%|          | 0/200 [00:00<?, ?it/s]"
      ]
     },
     "metadata": {},
     "output_type": "display_data"
    },
    {
     "data": {
      "application/vnd.jupyter.widget-view+json": {
       "model_id": "e4531dc2d3714678a889012512ea242b",
       "version_major": 2,
       "version_minor": 0
      },
      "text/plain": [
       "Relevance:   0%|          | 0/200 [00:00<?, ?it/s]"
      ]
     },
     "metadata": {},
     "output_type": "display_data"
    },
    {
     "name": "stderr",
     "output_type": "stream",
     "text": [
      "\r",
      "shapley values:   4%|▍         | 1/23 [00:03<01:14,  3.38s/it]"
     ]
    },
    {
     "data": {
      "application/vnd.jupyter.widget-view+json": {
       "model_id": "e4b4ee6b67d54dc787f8ae48cedcfab6",
       "version_major": 2,
       "version_minor": 0
      },
      "text/plain": [
       "Relevance:   0%|          | 0/200 [00:00<?, ?it/s]"
      ]
     },
     "metadata": {},
     "output_type": "display_data"
    },
    {
     "data": {
      "application/vnd.jupyter.widget-view+json": {
       "model_id": "7d69d52a290240a1a4def38cbba37b5a",
       "version_major": 2,
       "version_minor": 0
      },
      "text/plain": [
       "Relevance:   0%|          | 0/200 [00:00<?, ?it/s]"
      ]
     },
     "metadata": {},
     "output_type": "display_data"
    },
    {
     "name": "stderr",
     "output_type": "stream",
     "text": [
      "\r",
      "shapley values:   9%|▊         | 2/23 [00:06<01:10,  3.37s/it]"
     ]
    },
    {
     "data": {
      "application/vnd.jupyter.widget-view+json": {
       "model_id": "eb16a17bf69147f69a31d1a8d18ecbc0",
       "version_major": 2,
       "version_minor": 0
      },
      "text/plain": [
       "Relevance:   0%|          | 0/200 [00:00<?, ?it/s]"
      ]
     },
     "metadata": {},
     "output_type": "display_data"
    },
    {
     "data": {
      "application/vnd.jupyter.widget-view+json": {
       "model_id": "67e725c4042843d69aec8cf0acf77c62",
       "version_major": 2,
       "version_minor": 0
      },
      "text/plain": [
       "Relevance:   0%|          | 0/200 [00:00<?, ?it/s]"
      ]
     },
     "metadata": {},
     "output_type": "display_data"
    },
    {
     "name": "stderr",
     "output_type": "stream",
     "text": [
      "\r",
      "shapley values:  13%|█▎        | 3/23 [00:10<01:06,  3.34s/it]"
     ]
    },
    {
     "data": {
      "application/vnd.jupyter.widget-view+json": {
       "model_id": "b84fe9310c8a4f0084bf7449563ce8db",
       "version_major": 2,
       "version_minor": 0
      },
      "text/plain": [
       "Relevance:   0%|          | 0/200 [00:00<?, ?it/s]"
      ]
     },
     "metadata": {},
     "output_type": "display_data"
    },
    {
     "data": {
      "application/vnd.jupyter.widget-view+json": {
       "model_id": "c2c2668d72e84675874acbeaa3dd4692",
       "version_major": 2,
       "version_minor": 0
      },
      "text/plain": [
       "Relevance:   0%|          | 0/200 [00:00<?, ?it/s]"
      ]
     },
     "metadata": {},
     "output_type": "display_data"
    },
    {
     "name": "stderr",
     "output_type": "stream",
     "text": [
      "\r",
      "shapley values:  17%|█▋        | 4/23 [00:13<01:03,  3.33s/it]"
     ]
    },
    {
     "data": {
      "application/vnd.jupyter.widget-view+json": {
       "model_id": "1a04f724db3e4115b61c7d3a5c4f0037",
       "version_major": 2,
       "version_minor": 0
      },
      "text/plain": [
       "Relevance:   0%|          | 0/200 [00:00<?, ?it/s]"
      ]
     },
     "metadata": {},
     "output_type": "display_data"
    },
    {
     "data": {
      "application/vnd.jupyter.widget-view+json": {
       "model_id": "40ff768e9e8146d2861e2b11bb40bdbb",
       "version_major": 2,
       "version_minor": 0
      },
      "text/plain": [
       "Relevance:   0%|          | 0/200 [00:00<?, ?it/s]"
      ]
     },
     "metadata": {},
     "output_type": "display_data"
    },
    {
     "name": "stderr",
     "output_type": "stream",
     "text": [
      "\r",
      "shapley values:  22%|██▏       | 5/23 [00:16<00:59,  3.32s/it]"
     ]
    },
    {
     "data": {
      "application/vnd.jupyter.widget-view+json": {
       "model_id": "9ab0fc786cb649d295e59355bf39817c",
       "version_major": 2,
       "version_minor": 0
      },
      "text/plain": [
       "Relevance:   0%|          | 0/200 [00:00<?, ?it/s]"
      ]
     },
     "metadata": {},
     "output_type": "display_data"
    },
    {
     "data": {
      "application/vnd.jupyter.widget-view+json": {
       "model_id": "673a8972ef5440c08b3d305d1dad7395",
       "version_major": 2,
       "version_minor": 0
      },
      "text/plain": [
       "Relevance:   0%|          | 0/200 [00:00<?, ?it/s]"
      ]
     },
     "metadata": {},
     "output_type": "display_data"
    },
    {
     "name": "stderr",
     "output_type": "stream",
     "text": [
      "\r",
      "shapley values:  26%|██▌       | 6/23 [00:19<00:55,  3.25s/it]"
     ]
    },
    {
     "data": {
      "application/vnd.jupyter.widget-view+json": {
       "model_id": "162a84d6f4d548d9beaa6b7ef7e8ab29",
       "version_major": 2,
       "version_minor": 0
      },
      "text/plain": [
       "Relevance:   0%|          | 0/200 [00:00<?, ?it/s]"
      ]
     },
     "metadata": {},
     "output_type": "display_data"
    },
    {
     "data": {
      "application/vnd.jupyter.widget-view+json": {
       "model_id": "eedf41a03ec24f598de3b7d614bcea23",
       "version_major": 2,
       "version_minor": 0
      },
      "text/plain": [
       "Relevance:   0%|          | 0/200 [00:00<?, ?it/s]"
      ]
     },
     "metadata": {},
     "output_type": "display_data"
    },
    {
     "name": "stderr",
     "output_type": "stream",
     "text": [
      "\r",
      "shapley values:  30%|███       | 7/23 [00:22<00:51,  3.21s/it]"
     ]
    },
    {
     "data": {
      "application/vnd.jupyter.widget-view+json": {
       "model_id": "40ca763cdd9345f2ba5d466012bfd167",
       "version_major": 2,
       "version_minor": 0
      },
      "text/plain": [
       "Relevance:   0%|          | 0/200 [00:00<?, ?it/s]"
      ]
     },
     "metadata": {},
     "output_type": "display_data"
    },
    {
     "data": {
      "application/vnd.jupyter.widget-view+json": {
       "model_id": "533c1ff405d749bb9e83b1be08f4c3cc",
       "version_major": 2,
       "version_minor": 0
      },
      "text/plain": [
       "Relevance:   0%|          | 0/200 [00:00<?, ?it/s]"
      ]
     },
     "metadata": {},
     "output_type": "display_data"
    },
    {
     "data": {
      "application/vnd.jupyter.widget-view+json": {
       "model_id": "04f5e3d35d03496dadf4eb4620a84d14",
       "version_major": 2,
       "version_minor": 0
      },
      "text/plain": [
       "Relevance:   0%|          | 0/200 [00:00<?, ?it/s]"
      ]
     },
     "metadata": {},
     "output_type": "display_data"
    },
    {
     "name": "stderr",
     "output_type": "stream",
     "text": [
      "\r",
      "shapley values:  39%|███▉      | 9/23 [00:29<00:43,  3.14s/it]"
     ]
    },
    {
     "data": {
      "application/vnd.jupyter.widget-view+json": {
       "model_id": "fb3cecfbae354f0697284261d96af5be",
       "version_major": 2,
       "version_minor": 0
      },
      "text/plain": [
       "Relevance:   0%|          | 0/200 [00:00<?, ?it/s]"
      ]
     },
     "metadata": {},
     "output_type": "display_data"
    },
    {
     "data": {
      "application/vnd.jupyter.widget-view+json": {
       "model_id": "f6acea4b57fc43de868de56d798ce9b0",
       "version_major": 2,
       "version_minor": 0
      },
      "text/plain": [
       "Relevance:   0%|          | 0/200 [00:00<?, ?it/s]"
      ]
     },
     "metadata": {},
     "output_type": "display_data"
    },
    {
     "name": "stderr",
     "output_type": "stream",
     "text": [
      "\r",
      "shapley values:  43%|████▎     | 10/23 [00:32<00:40,  3.09s/it]"
     ]
    },
    {
     "data": {
      "application/vnd.jupyter.widget-view+json": {
       "model_id": "6b9de323b85a4d7c9b5390d44ce655b0",
       "version_major": 2,
       "version_minor": 0
      },
      "text/plain": [
       "Relevance:   0%|          | 0/200 [00:00<?, ?it/s]"
      ]
     },
     "metadata": {},
     "output_type": "display_data"
    },
    {
     "data": {
      "application/vnd.jupyter.widget-view+json": {
       "model_id": "a9ec53aabad94b179fb2224774bfd235",
       "version_major": 2,
       "version_minor": 0
      },
      "text/plain": [
       "Relevance:   0%|          | 0/200 [00:00<?, ?it/s]"
      ]
     },
     "metadata": {},
     "output_type": "display_data"
    },
    {
     "name": "stderr",
     "output_type": "stream",
     "text": [
      "\r",
      "shapley values:  48%|████▊     | 11/23 [00:35<00:37,  3.09s/it]"
     ]
    },
    {
     "data": {
      "application/vnd.jupyter.widget-view+json": {
       "model_id": "527a7f9e71ea4a1b89583f85303f2826",
       "version_major": 2,
       "version_minor": 0
      },
      "text/plain": [
       "Relevance:   0%|          | 0/200 [00:00<?, ?it/s]"
      ]
     },
     "metadata": {},
     "output_type": "display_data"
    },
    {
     "data": {
      "application/vnd.jupyter.widget-view+json": {
       "model_id": "28b8e60c753d471288a56325e1c2d100",
       "version_major": 2,
       "version_minor": 0
      },
      "text/plain": [
       "Relevance:   0%|          | 0/200 [00:00<?, ?it/s]"
      ]
     },
     "metadata": {},
     "output_type": "display_data"
    },
    {
     "name": "stderr",
     "output_type": "stream",
     "text": [
      "\r",
      "shapley values:  52%|█████▏    | 12/23 [00:38<00:35,  3.18s/it]"
     ]
    },
    {
     "data": {
      "application/vnd.jupyter.widget-view+json": {
       "model_id": "ab20475d496c41f5ae75c98761ec775b",
       "version_major": 2,
       "version_minor": 0
      },
      "text/plain": [
       "Relevance:   0%|          | 0/200 [00:00<?, ?it/s]"
      ]
     },
     "metadata": {},
     "output_type": "display_data"
    },
    {
     "name": "stderr",
     "output_type": "stream",
     "text": [
      "\r",
      "shapley values:  57%|█████▋    | 13/23 [00:41<00:31,  3.15s/it]"
     ]
    },
    {
     "data": {
      "application/vnd.jupyter.widget-view+json": {
       "model_id": "e2513ebf3796418fb6c98940bfb01f0b",
       "version_major": 2,
       "version_minor": 0
      },
      "text/plain": [
       "Relevance:   0%|          | 0/200 [00:00<?, ?it/s]"
      ]
     },
     "metadata": {},
     "output_type": "display_data"
    },
    {
     "data": {
      "application/vnd.jupyter.widget-view+json": {
       "model_id": "9f1a098969454a70b6711edfd00da0a1",
       "version_major": 2,
       "version_minor": 0
      },
      "text/plain": [
       "Relevance:   0%|          | 0/200 [00:00<?, ?it/s]"
      ]
     },
     "metadata": {},
     "output_type": "display_data"
    },
    {
     "name": "stderr",
     "output_type": "stream",
     "text": [
      "\r",
      "shapley values:  61%|██████    | 14/23 [00:44<00:28,  3.16s/it]"
     ]
    },
    {
     "data": {
      "application/vnd.jupyter.widget-view+json": {
       "model_id": "3e4eb35cf5134dad8bba3fa295a40b75",
       "version_major": 2,
       "version_minor": 0
      },
      "text/plain": [
       "Relevance:   0%|          | 0/200 [00:00<?, ?it/s]"
      ]
     },
     "metadata": {},
     "output_type": "display_data"
    },
    {
     "data": {
      "application/vnd.jupyter.widget-view+json": {
       "model_id": "89c1808c964d4791a8431e689ee25b8d",
       "version_major": 2,
       "version_minor": 0
      },
      "text/plain": [
       "Relevance:   0%|          | 0/200 [00:00<?, ?it/s]"
      ]
     },
     "metadata": {},
     "output_type": "display_data"
    },
    {
     "name": "stderr",
     "output_type": "stream",
     "text": [
      "\r",
      "shapley values:  65%|██████▌   | 15/23 [00:47<00:24,  3.10s/it]"
     ]
    },
    {
     "data": {
      "application/vnd.jupyter.widget-view+json": {
       "model_id": "0729d757e930468f8ef0a005433b8a83",
       "version_major": 2,
       "version_minor": 0
      },
      "text/plain": [
       "Relevance:   0%|          | 0/200 [00:00<?, ?it/s]"
      ]
     },
     "metadata": {},
     "output_type": "display_data"
    },
    {
     "data": {
      "application/vnd.jupyter.widget-view+json": {
       "model_id": "a8fa1e0af16948ffb5d26d954d60596b",
       "version_major": 2,
       "version_minor": 0
      },
      "text/plain": [
       "Relevance:   0%|          | 0/200 [00:00<?, ?it/s]"
      ]
     },
     "metadata": {},
     "output_type": "display_data"
    },
    {
     "name": "stderr",
     "output_type": "stream",
     "text": [
      "\r",
      "shapley values:  70%|██████▉   | 16/23 [00:50<00:21,  3.10s/it]"
     ]
    },
    {
     "data": {
      "application/vnd.jupyter.widget-view+json": {
       "model_id": "47309475d14b4c95acdf8824ee144ded",
       "version_major": 2,
       "version_minor": 0
      },
      "text/plain": [
       "Relevance:   0%|          | 0/200 [00:00<?, ?it/s]"
      ]
     },
     "metadata": {},
     "output_type": "display_data"
    },
    {
     "data": {
      "application/vnd.jupyter.widget-view+json": {
       "model_id": "ba216b2564b64f3789dd3fabf3922276",
       "version_major": 2,
       "version_minor": 0
      },
      "text/plain": [
       "Relevance:   0%|          | 0/200 [00:00<?, ?it/s]"
      ]
     },
     "metadata": {},
     "output_type": "display_data"
    },
    {
     "data": {
      "application/vnd.jupyter.widget-view+json": {
       "model_id": "af3f084796b8412692608c98b90d8f94",
       "version_major": 2,
       "version_minor": 0
      },
      "text/plain": [
       "Relevance:   0%|          | 0/200 [00:00<?, ?it/s]"
      ]
     },
     "metadata": {},
     "output_type": "display_data"
    },
    {
     "name": "stderr",
     "output_type": "stream",
     "text": [
      "\r",
      "shapley values:  78%|███████▊  | 18/23 [00:57<00:16,  3.24s/it]"
     ]
    },
    {
     "data": {
      "application/vnd.jupyter.widget-view+json": {
       "model_id": "c53cbd0587fb4c18aa5399648f112b81",
       "version_major": 2,
       "version_minor": 0
      },
      "text/plain": [
       "Relevance:   0%|          | 0/200 [00:00<?, ?it/s]"
      ]
     },
     "metadata": {},
     "output_type": "display_data"
    },
    {
     "data": {
      "application/vnd.jupyter.widget-view+json": {
       "model_id": "c4608b08157d4c3eb8df59045b3b9cc7",
       "version_major": 2,
       "version_minor": 0
      },
      "text/plain": [
       "Relevance:   0%|          | 0/200 [00:00<?, ?it/s]"
      ]
     },
     "metadata": {},
     "output_type": "display_data"
    },
    {
     "name": "stderr",
     "output_type": "stream",
     "text": [
      "\r",
      "shapley values:  83%|████████▎ | 19/23 [01:00<00:12,  3.14s/it]"
     ]
    },
    {
     "data": {
      "application/vnd.jupyter.widget-view+json": {
       "model_id": "960b062964794ef283081b7f51b4531a",
       "version_major": 2,
       "version_minor": 0
      },
      "text/plain": [
       "Relevance:   0%|          | 0/200 [00:00<?, ?it/s]"
      ]
     },
     "metadata": {},
     "output_type": "display_data"
    },
    {
     "data": {
      "application/vnd.jupyter.widget-view+json": {
       "model_id": "0b115b1b5d724f05875d8f01186cf758",
       "version_major": 2,
       "version_minor": 0
      },
      "text/plain": [
       "Relevance:   0%|          | 0/200 [00:00<?, ?it/s]"
      ]
     },
     "metadata": {},
     "output_type": "display_data"
    },
    {
     "name": "stderr",
     "output_type": "stream",
     "text": [
      "\r",
      "shapley values:  87%|████████▋ | 20/23 [01:03<00:09,  3.11s/it]"
     ]
    },
    {
     "data": {
      "application/vnd.jupyter.widget-view+json": {
       "model_id": "9f85a9119748456f9f9bf6e17d977b7d",
       "version_major": 2,
       "version_minor": 0
      },
      "text/plain": [
       "Relevance:   0%|          | 0/200 [00:00<?, ?it/s]"
      ]
     },
     "metadata": {},
     "output_type": "display_data"
    },
    {
     "data": {
      "application/vnd.jupyter.widget-view+json": {
       "model_id": "1a82c44071b44e1e99884fe37cd1bac1",
       "version_major": 2,
       "version_minor": 0
      },
      "text/plain": [
       "Relevance:   0%|          | 0/200 [00:00<?, ?it/s]"
      ]
     },
     "metadata": {},
     "output_type": "display_data"
    },
    {
     "name": "stderr",
     "output_type": "stream",
     "text": [
      "\r",
      "shapley values:  96%|█████████▌| 22/23 [01:09<00:03,  3.07s/it]"
     ]
    },
    {
     "data": {
      "application/vnd.jupyter.widget-view+json": {
       "model_id": "3b409d8464a942ed91596318ef6842ee",
       "version_major": 2,
       "version_minor": 0
      },
      "text/plain": [
       "Relevance:   0%|          | 0/200 [00:00<?, ?it/s]"
      ]
     },
     "metadata": {},
     "output_type": "display_data"
    },
    {
     "data": {
      "application/vnd.jupyter.widget-view+json": {
       "model_id": "99171b47345d4393b8eec8942d53ff8b",
       "version_major": 2,
       "version_minor": 0
      },
      "text/plain": [
       "Relevance:   0%|          | 0/200 [00:00<?, ?it/s]"
      ]
     },
     "metadata": {},
     "output_type": "display_data"
    },
    {
     "name": "stderr",
     "output_type": "stream",
     "text": [
      "shapley values: 100%|██████████| 23/23 [01:12<00:00,  3.15s/it]\n",
      "shapley interaction index:   0%|          | 0/22 [00:00<?, ?it/s]"
     ]
    },
    {
     "data": {
      "application/vnd.jupyter.widget-view+json": {
       "model_id": "106470b51354426797530611a728bfb7",
       "version_major": 2,
       "version_minor": 0
      },
      "text/plain": [
       "Relevance:   0%|          | 0/200 [00:00<?, ?it/s]"
      ]
     },
     "metadata": {},
     "output_type": "display_data"
    },
    {
     "data": {
      "application/vnd.jupyter.widget-view+json": {
       "model_id": "de16f121d3574c7098505dc707ff8a3b",
       "version_major": 2,
       "version_minor": 0
      },
      "text/plain": [
       "Relevance:   0%|          | 0/200 [00:00<?, ?it/s]"
      ]
     },
     "metadata": {},
     "output_type": "display_data"
    },
    {
     "data": {
      "application/vnd.jupyter.widget-view+json": {
       "model_id": "0b7e6856de84484d93d64e2a2557d2fe",
       "version_major": 2,
       "version_minor": 0
      },
      "text/plain": [
       "Relevance:   0%|          | 0/200 [00:00<?, ?it/s]"
      ]
     },
     "metadata": {},
     "output_type": "display_data"
    },
    {
     "name": "stderr",
     "output_type": "stream",
     "text": [
      "\r",
      "shapley interaction index:   5%|▍         | 1/22 [00:06<02:09,  6.17s/it]"
     ]
    },
    {
     "data": {
      "application/vnd.jupyter.widget-view+json": {
       "model_id": "d710619065504f7eba2c8f066a710b55",
       "version_major": 2,
       "version_minor": 0
      },
      "text/plain": [
       "Relevance:   0%|          | 0/200 [00:00<?, ?it/s]"
      ]
     },
     "metadata": {},
     "output_type": "display_data"
    },
    {
     "data": {
      "application/vnd.jupyter.widget-view+json": {
       "model_id": "8ec11750d3884b0d868c5bf19ecbd648",
       "version_major": 2,
       "version_minor": 0
      },
      "text/plain": [
       "Relevance:   0%|          | 0/200 [00:00<?, ?it/s]"
      ]
     },
     "metadata": {},
     "output_type": "display_data"
    },
    {
     "data": {
      "application/vnd.jupyter.widget-view+json": {
       "model_id": "9d238128360046cbbc04fc8b7077db10",
       "version_major": 2,
       "version_minor": 0
      },
      "text/plain": [
       "Relevance:   0%|          | 0/200 [00:00<?, ?it/s]"
      ]
     },
     "metadata": {},
     "output_type": "display_data"
    },
    {
     "data": {
      "application/vnd.jupyter.widget-view+json": {
       "model_id": "cca19d8707d346c1a38a12497f8b5380",
       "version_major": 2,
       "version_minor": 0
      },
      "text/plain": [
       "Relevance:   0%|          | 0/200 [00:00<?, ?it/s]"
      ]
     },
     "metadata": {},
     "output_type": "display_data"
    },
    {
     "name": "stderr",
     "output_type": "stream",
     "text": [
      "\r",
      "shapley interaction index:   9%|▉         | 2/22 [00:12<02:00,  6.03s/it]"
     ]
    },
    {
     "data": {
      "application/vnd.jupyter.widget-view+json": {
       "model_id": "1f19f11445ac46afb605c1b83aff5f86",
       "version_major": 2,
       "version_minor": 0
      },
      "text/plain": [
       "Relevance:   0%|          | 0/200 [00:00<?, ?it/s]"
      ]
     },
     "metadata": {},
     "output_type": "display_data"
    },
    {
     "data": {
      "application/vnd.jupyter.widget-view+json": {
       "model_id": "d9065864c1224f308fa3769e931fcf41",
       "version_major": 2,
       "version_minor": 0
      },
      "text/plain": [
       "Relevance:   0%|          | 0/200 [00:00<?, ?it/s]"
      ]
     },
     "metadata": {},
     "output_type": "display_data"
    },
    {
     "data": {
      "application/vnd.jupyter.widget-view+json": {
       "model_id": "319a6cdfaac540c99144d996a72efca9",
       "version_major": 2,
       "version_minor": 0
      },
      "text/plain": [
       "Relevance:   0%|          | 0/200 [00:00<?, ?it/s]"
      ]
     },
     "metadata": {},
     "output_type": "display_data"
    },
    {
     "data": {
      "application/vnd.jupyter.widget-view+json": {
       "model_id": "8c99e27f4c91464d99742a4b41413636",
       "version_major": 2,
       "version_minor": 0
      },
      "text/plain": [
       "Relevance:   0%|          | 0/200 [00:00<?, ?it/s]"
      ]
     },
     "metadata": {},
     "output_type": "display_data"
    },
    {
     "name": "stderr",
     "output_type": "stream",
     "text": [
      "\r",
      "shapley interaction index:  14%|█▎        | 3/22 [00:18<01:55,  6.06s/it]"
     ]
    },
    {
     "data": {
      "application/vnd.jupyter.widget-view+json": {
       "model_id": "638e8d394a2d4a0d8f5ca5dbafc045be",
       "version_major": 2,
       "version_minor": 0
      },
      "text/plain": [
       "Relevance:   0%|          | 0/200 [00:00<?, ?it/s]"
      ]
     },
     "metadata": {},
     "output_type": "display_data"
    },
    {
     "data": {
      "application/vnd.jupyter.widget-view+json": {
       "model_id": "497ae18bc9444741a0db97dff1457123",
       "version_major": 2,
       "version_minor": 0
      },
      "text/plain": [
       "Relevance:   0%|          | 0/200 [00:00<?, ?it/s]"
      ]
     },
     "metadata": {},
     "output_type": "display_data"
    },
    {
     "data": {
      "application/vnd.jupyter.widget-view+json": {
       "model_id": "b23f5e56cfa544cd9fe335cc551dfafc",
       "version_major": 2,
       "version_minor": 0
      },
      "text/plain": [
       "Relevance:   0%|          | 0/200 [00:00<?, ?it/s]"
      ]
     },
     "metadata": {},
     "output_type": "display_data"
    },
    {
     "name": "stderr",
     "output_type": "stream",
     "text": [
      "\r",
      "shapley interaction index:  18%|█▊        | 4/22 [00:24<01:48,  6.05s/it]"
     ]
    },
    {
     "data": {
      "application/vnd.jupyter.widget-view+json": {
       "model_id": "309c2cda33074c96be3c304a65d4f4d2",
       "version_major": 2,
       "version_minor": 0
      },
      "text/plain": [
       "Relevance:   0%|          | 0/200 [00:00<?, ?it/s]"
      ]
     },
     "metadata": {},
     "output_type": "display_data"
    },
    {
     "data": {
      "application/vnd.jupyter.widget-view+json": {
       "model_id": "080f9f03dc94450a9775cc53e2043d2f",
       "version_major": 2,
       "version_minor": 0
      },
      "text/plain": [
       "Relevance:   0%|          | 0/200 [00:00<?, ?it/s]"
      ]
     },
     "metadata": {},
     "output_type": "display_data"
    },
    {
     "name": "stderr",
     "output_type": "stream",
     "text": [
      "\r",
      "shapley interaction index:  23%|██▎       | 5/22 [00:30<01:42,  6.03s/it]"
     ]
    },
    {
     "data": {
      "application/vnd.jupyter.widget-view+json": {
       "model_id": "04c3624b5fae4274ba1521b6469b9805",
       "version_major": 2,
       "version_minor": 0
      },
      "text/plain": [
       "Relevance:   0%|          | 0/200 [00:00<?, ?it/s]"
      ]
     },
     "metadata": {},
     "output_type": "display_data"
    },
    {
     "data": {
      "application/vnd.jupyter.widget-view+json": {
       "model_id": "f14251d0df5e432981e440b0058ad379",
       "version_major": 2,
       "version_minor": 0
      },
      "text/plain": [
       "Relevance:   0%|          | 0/200 [00:00<?, ?it/s]"
      ]
     },
     "metadata": {},
     "output_type": "display_data"
    },
    {
     "data": {
      "application/vnd.jupyter.widget-view+json": {
       "model_id": "0e1644a3f2f94e0c995116f3f721b786",
       "version_major": 2,
       "version_minor": 0
      },
      "text/plain": [
       "Relevance:   0%|          | 0/200 [00:00<?, ?it/s]"
      ]
     },
     "metadata": {},
     "output_type": "display_data"
    },
    {
     "data": {
      "application/vnd.jupyter.widget-view+json": {
       "model_id": "e04c9be28ce94d0ca9c0121ba2206e62",
       "version_major": 2,
       "version_minor": 0
      },
      "text/plain": [
       "Relevance:   0%|          | 0/200 [00:00<?, ?it/s]"
      ]
     },
     "metadata": {},
     "output_type": "display_data"
    },
    {
     "data": {
      "application/vnd.jupyter.widget-view+json": {
       "model_id": "b40fcfdc642544a0877fa5bbbe7fb40d",
       "version_major": 2,
       "version_minor": 0
      },
      "text/plain": [
       "Relevance:   0%|          | 0/200 [00:00<?, ?it/s]"
      ]
     },
     "metadata": {},
     "output_type": "display_data"
    },
    {
     "data": {
      "application/vnd.jupyter.widget-view+json": {
       "model_id": "17f09e86a8b74d81ab22c9ce529810d6",
       "version_major": 2,
       "version_minor": 0
      },
      "text/plain": [
       "Relevance:   0%|          | 0/200 [00:00<?, ?it/s]"
      ]
     },
     "metadata": {},
     "output_type": "display_data"
    },
    {
     "data": {
      "application/vnd.jupyter.widget-view+json": {
       "model_id": "c418c089abb645b7b45bf57c6a768752",
       "version_major": 2,
       "version_minor": 0
      },
      "text/plain": [
       "Relevance:   0%|          | 0/200 [00:00<?, ?it/s]"
      ]
     },
     "metadata": {},
     "output_type": "display_data"
    },
    {
     "name": "stderr",
     "output_type": "stream",
     "text": [
      "\r",
      "shapley interaction index:  32%|███▏      | 7/22 [00:42<01:31,  6.09s/it]"
     ]
    },
    {
     "data": {
      "application/vnd.jupyter.widget-view+json": {
       "model_id": "dd8d4d6cfba74e6988443d409bc998cf",
       "version_major": 2,
       "version_minor": 0
      },
      "text/plain": [
       "Relevance:   0%|          | 0/200 [00:00<?, ?it/s]"
      ]
     },
     "metadata": {},
     "output_type": "display_data"
    },
    {
     "data": {
      "application/vnd.jupyter.widget-view+json": {
       "model_id": "303dac9aef5846569d033550dc5c1247",
       "version_major": 2,
       "version_minor": 0
      },
      "text/plain": [
       "Relevance:   0%|          | 0/200 [00:00<?, ?it/s]"
      ]
     },
     "metadata": {},
     "output_type": "display_data"
    },
    {
     "data": {
      "application/vnd.jupyter.widget-view+json": {
       "model_id": "3dd59bfccafe4abcb9b10bac1c8d4ca4",
       "version_major": 2,
       "version_minor": 0
      },
      "text/plain": [
       "Relevance:   0%|          | 0/200 [00:00<?, ?it/s]"
      ]
     },
     "metadata": {},
     "output_type": "display_data"
    },
    {
     "data": {
      "application/vnd.jupyter.widget-view+json": {
       "model_id": "2c931bf447f74b3e8cd6c82e9e9d1684",
       "version_major": 2,
       "version_minor": 0
      },
      "text/plain": [
       "Relevance:   0%|          | 0/200 [00:00<?, ?it/s]"
      ]
     },
     "metadata": {},
     "output_type": "display_data"
    },
    {
     "name": "stderr",
     "output_type": "stream",
     "text": [
      "\r",
      "shapley interaction index:  36%|███▋      | 8/22 [00:48<01:26,  6.19s/it]"
     ]
    },
    {
     "data": {
      "application/vnd.jupyter.widget-view+json": {
       "model_id": "8e314d418ea64a3c96845740c3f89f0a",
       "version_major": 2,
       "version_minor": 0
      },
      "text/plain": [
       "Relevance:   0%|          | 0/200 [00:00<?, ?it/s]"
      ]
     },
     "metadata": {},
     "output_type": "display_data"
    },
    {
     "data": {
      "application/vnd.jupyter.widget-view+json": {
       "model_id": "b0e248c3eab84dee9c7e7be00c697eea",
       "version_major": 2,
       "version_minor": 0
      },
      "text/plain": [
       "Relevance:   0%|          | 0/200 [00:00<?, ?it/s]"
      ]
     },
     "metadata": {},
     "output_type": "display_data"
    },
    {
     "data": {
      "application/vnd.jupyter.widget-view+json": {
       "model_id": "b16bf75fc06f4b06b5bb819871e35d5d",
       "version_major": 2,
       "version_minor": 0
      },
      "text/plain": [
       "Relevance:   0%|          | 0/200 [00:00<?, ?it/s]"
      ]
     },
     "metadata": {},
     "output_type": "display_data"
    },
    {
     "name": "stderr",
     "output_type": "stream",
     "text": [
      "\r",
      "shapley interaction index:  41%|████      | 9/22 [00:55<01:20,  6.23s/it]"
     ]
    },
    {
     "data": {
      "application/vnd.jupyter.widget-view+json": {
       "model_id": "91ca97698f47498cad79d30f7de95ce4",
       "version_major": 2,
       "version_minor": 0
      },
      "text/plain": [
       "Relevance:   0%|          | 0/200 [00:00<?, ?it/s]"
      ]
     },
     "metadata": {},
     "output_type": "display_data"
    },
    {
     "data": {
      "application/vnd.jupyter.widget-view+json": {
       "model_id": "0494f050011b452d806f23777e8d4bd9",
       "version_major": 2,
       "version_minor": 0
      },
      "text/plain": [
       "Relevance:   0%|          | 0/200 [00:00<?, ?it/s]"
      ]
     },
     "metadata": {},
     "output_type": "display_data"
    },
    {
     "data": {
      "application/vnd.jupyter.widget-view+json": {
       "model_id": "3b60d04f3b2046a392649df9677c4379",
       "version_major": 2,
       "version_minor": 0
      },
      "text/plain": [
       "Relevance:   0%|          | 0/200 [00:00<?, ?it/s]"
      ]
     },
     "metadata": {},
     "output_type": "display_data"
    },
    {
     "name": "stderr",
     "output_type": "stream",
     "text": [
      "\r",
      "shapley interaction index:  45%|████▌     | 10/22 [01:01<01:13,  6.16s/it]"
     ]
    },
    {
     "data": {
      "application/vnd.jupyter.widget-view+json": {
       "model_id": "e885b6f123814844817b9d42a02adf10",
       "version_major": 2,
       "version_minor": 0
      },
      "text/plain": [
       "Relevance:   0%|          | 0/200 [00:00<?, ?it/s]"
      ]
     },
     "metadata": {},
     "output_type": "display_data"
    },
    {
     "data": {
      "application/vnd.jupyter.widget-view+json": {
       "model_id": "a78f1b4b11a242fe98036072b7da34f9",
       "version_major": 2,
       "version_minor": 0
      },
      "text/plain": [
       "Relevance:   0%|          | 0/200 [00:00<?, ?it/s]"
      ]
     },
     "metadata": {},
     "output_type": "display_data"
    },
    {
     "data": {
      "application/vnd.jupyter.widget-view+json": {
       "model_id": "66608b214f294d08b1dfa983e994d1ad",
       "version_major": 2,
       "version_minor": 0
      },
      "text/plain": [
       "Relevance:   0%|          | 0/200 [00:00<?, ?it/s]"
      ]
     },
     "metadata": {},
     "output_type": "display_data"
    },
    {
     "name": "stderr",
     "output_type": "stream",
     "text": [
      "\r",
      "shapley interaction index:  50%|█████     | 11/22 [01:06<01:06,  6.07s/it]"
     ]
    },
    {
     "data": {
      "application/vnd.jupyter.widget-view+json": {
       "model_id": "ff2deeebb2c14faa82462b253644ffb3",
       "version_major": 2,
       "version_minor": 0
      },
      "text/plain": [
       "Relevance:   0%|          | 0/200 [00:00<?, ?it/s]"
      ]
     },
     "metadata": {},
     "output_type": "display_data"
    },
    {
     "data": {
      "application/vnd.jupyter.widget-view+json": {
       "model_id": "6c4775d2f2874821b8bb90d15b888047",
       "version_major": 2,
       "version_minor": 0
      },
      "text/plain": [
       "Relevance:   0%|          | 0/200 [00:00<?, ?it/s]"
      ]
     },
     "metadata": {},
     "output_type": "display_data"
    },
    {
     "data": {
      "application/vnd.jupyter.widget-view+json": {
       "model_id": "22542c11c4ef491baa8ebffd9e4d3b2c",
       "version_major": 2,
       "version_minor": 0
      },
      "text/plain": [
       "Relevance:   0%|          | 0/200 [00:00<?, ?it/s]"
      ]
     },
     "metadata": {},
     "output_type": "display_data"
    },
    {
     "name": "stderr",
     "output_type": "stream",
     "text": [
      "\r",
      "shapley interaction index:  55%|█████▍    | 12/22 [01:13<01:00,  6.08s/it]"
     ]
    },
    {
     "data": {
      "application/vnd.jupyter.widget-view+json": {
       "model_id": "dbdfb84eac5945bb8d0eeffcf1990825",
       "version_major": 2,
       "version_minor": 0
      },
      "text/plain": [
       "Relevance:   0%|          | 0/200 [00:00<?, ?it/s]"
      ]
     },
     "metadata": {},
     "output_type": "display_data"
    },
    {
     "data": {
      "application/vnd.jupyter.widget-view+json": {
       "model_id": "8eb14de9cf8346f08270097ddfca966f",
       "version_major": 2,
       "version_minor": 0
      },
      "text/plain": [
       "Relevance:   0%|          | 0/200 [00:00<?, ?it/s]"
      ]
     },
     "metadata": {},
     "output_type": "display_data"
    },
    {
     "data": {
      "application/vnd.jupyter.widget-view+json": {
       "model_id": "c9f12b9eb0c4498195d42b0a8da401c0",
       "version_major": 2,
       "version_minor": 0
      },
      "text/plain": [
       "Relevance:   0%|          | 0/200 [00:00<?, ?it/s]"
      ]
     },
     "metadata": {},
     "output_type": "display_data"
    },
    {
     "name": "stderr",
     "output_type": "stream",
     "text": [
      "\r",
      "shapley interaction index:  59%|█████▉    | 13/22 [01:19<00:55,  6.20s/it]"
     ]
    },
    {
     "data": {
      "application/vnd.jupyter.widget-view+json": {
       "model_id": "97bae44894e944ada6344925d257e289",
       "version_major": 2,
       "version_minor": 0
      },
      "text/plain": [
       "Relevance:   0%|          | 0/200 [00:00<?, ?it/s]"
      ]
     },
     "metadata": {},
     "output_type": "display_data"
    },
    {
     "data": {
      "application/vnd.jupyter.widget-view+json": {
       "model_id": "20b8e489ec034254b1fa41cb6bb58c87",
       "version_major": 2,
       "version_minor": 0
      },
      "text/plain": [
       "Relevance:   0%|          | 0/200 [00:00<?, ?it/s]"
      ]
     },
     "metadata": {},
     "output_type": "display_data"
    },
    {
     "data": {
      "application/vnd.jupyter.widget-view+json": {
       "model_id": "107337f36d7c46d0a84dbca0b66ddcb0",
       "version_major": 2,
       "version_minor": 0
      },
      "text/plain": [
       "Relevance:   0%|          | 0/200 [00:00<?, ?it/s]"
      ]
     },
     "metadata": {},
     "output_type": "display_data"
    },
    {
     "data": {
      "application/vnd.jupyter.widget-view+json": {
       "model_id": "3b7c81ee9ce544c6a304b5b03dbbbd30",
       "version_major": 2,
       "version_minor": 0
      },
      "text/plain": [
       "Relevance:   0%|          | 0/200 [00:00<?, ?it/s]"
      ]
     },
     "metadata": {},
     "output_type": "display_data"
    },
    {
     "name": "stderr",
     "output_type": "stream",
     "text": [
      "\r",
      "shapley interaction index:  64%|██████▎   | 14/22 [01:25<00:49,  6.21s/it]"
     ]
    },
    {
     "data": {
      "application/vnd.jupyter.widget-view+json": {
       "model_id": "c8d29e2754b44336b20ce6b52918b28f",
       "version_major": 2,
       "version_minor": 0
      },
      "text/plain": [
       "Relevance:   0%|          | 0/200 [00:00<?, ?it/s]"
      ]
     },
     "metadata": {},
     "output_type": "display_data"
    },
    {
     "data": {
      "application/vnd.jupyter.widget-view+json": {
       "model_id": "ad5bc10d5d084c0a923b404a6b8953f5",
       "version_major": 2,
       "version_minor": 0
      },
      "text/plain": [
       "Relevance:   0%|          | 0/200 [00:00<?, ?it/s]"
      ]
     },
     "metadata": {},
     "output_type": "display_data"
    },
    {
     "data": {
      "application/vnd.jupyter.widget-view+json": {
       "model_id": "891361da580643d2bb18edf62d8139a6",
       "version_major": 2,
       "version_minor": 0
      },
      "text/plain": [
       "Relevance:   0%|          | 0/200 [00:00<?, ?it/s]"
      ]
     },
     "metadata": {},
     "output_type": "display_data"
    },
    {
     "data": {
      "application/vnd.jupyter.widget-view+json": {
       "model_id": "382f5b4ccc514be1a9af5202328e08b1",
       "version_major": 2,
       "version_minor": 0
      },
      "text/plain": [
       "Relevance:   0%|          | 0/200 [00:00<?, ?it/s]"
      ]
     },
     "metadata": {},
     "output_type": "display_data"
    },
    {
     "name": "stderr",
     "output_type": "stream",
     "text": [
      "\r",
      "shapley interaction index:  68%|██████▊   | 15/22 [01:31<00:43,  6.18s/it]"
     ]
    },
    {
     "data": {
      "application/vnd.jupyter.widget-view+json": {
       "model_id": "d117afa51d5e4b8e875b9fc6e80d33ef",
       "version_major": 2,
       "version_minor": 0
      },
      "text/plain": [
       "Relevance:   0%|          | 0/200 [00:00<?, ?it/s]"
      ]
     },
     "metadata": {},
     "output_type": "display_data"
    },
    {
     "data": {
      "application/vnd.jupyter.widget-view+json": {
       "model_id": "753f3319eeeb43edaf4c812a9d451cdf",
       "version_major": 2,
       "version_minor": 0
      },
      "text/plain": [
       "Relevance:   0%|          | 0/200 [00:00<?, ?it/s]"
      ]
     },
     "metadata": {},
     "output_type": "display_data"
    },
    {
     "data": {
      "application/vnd.jupyter.widget-view+json": {
       "model_id": "b53fa50d566f4d92a8131c4e7c20151d",
       "version_major": 2,
       "version_minor": 0
      },
      "text/plain": [
       "Relevance:   0%|          | 0/200 [00:00<?, ?it/s]"
      ]
     },
     "metadata": {},
     "output_type": "display_data"
    },
    {
     "data": {
      "application/vnd.jupyter.widget-view+json": {
       "model_id": "991cadc958f4425590f2ded0352f46e1",
       "version_major": 2,
       "version_minor": 0
      },
      "text/plain": [
       "Relevance:   0%|          | 0/200 [00:00<?, ?it/s]"
      ]
     },
     "metadata": {},
     "output_type": "display_data"
    },
    {
     "name": "stderr",
     "output_type": "stream",
     "text": [
      "\r",
      "shapley interaction index:  73%|███████▎  | 16/22 [01:38<00:37,  6.17s/it]"
     ]
    },
    {
     "data": {
      "application/vnd.jupyter.widget-view+json": {
       "model_id": "a316713bee504559a4599ac8e652c47d",
       "version_major": 2,
       "version_minor": 0
      },
      "text/plain": [
       "Relevance:   0%|          | 0/200 [00:00<?, ?it/s]"
      ]
     },
     "metadata": {},
     "output_type": "display_data"
    },
    {
     "data": {
      "application/vnd.jupyter.widget-view+json": {
       "model_id": "c55816da2c144c86ba4a67079e703ed6",
       "version_major": 2,
       "version_minor": 0
      },
      "text/plain": [
       "Relevance:   0%|          | 0/200 [00:00<?, ?it/s]"
      ]
     },
     "metadata": {},
     "output_type": "display_data"
    },
    {
     "data": {
      "application/vnd.jupyter.widget-view+json": {
       "model_id": "51dcc5a8f27748a4894bdfc1c036ddf4",
       "version_major": 2,
       "version_minor": 0
      },
      "text/plain": [
       "Relevance:   0%|          | 0/200 [00:00<?, ?it/s]"
      ]
     },
     "metadata": {},
     "output_type": "display_data"
    },
    {
     "name": "stderr",
     "output_type": "stream",
     "text": [
      "\r",
      "shapley interaction index:  77%|███████▋  | 17/22 [01:44<00:30,  6.20s/it]"
     ]
    },
    {
     "data": {
      "application/vnd.jupyter.widget-view+json": {
       "model_id": "34a6b6c12e4743d28cedd84e33c8b5fe",
       "version_major": 2,
       "version_minor": 0
      },
      "text/plain": [
       "Relevance:   0%|          | 0/200 [00:00<?, ?it/s]"
      ]
     },
     "metadata": {},
     "output_type": "display_data"
    },
    {
     "data": {
      "application/vnd.jupyter.widget-view+json": {
       "model_id": "d6ede83f52fc4063a96c079998348557",
       "version_major": 2,
       "version_minor": 0
      },
      "text/plain": [
       "Relevance:   0%|          | 0/200 [00:00<?, ?it/s]"
      ]
     },
     "metadata": {},
     "output_type": "display_data"
    },
    {
     "data": {
      "application/vnd.jupyter.widget-view+json": {
       "model_id": "b7f09494406f464a9a0ab91220416a78",
       "version_major": 2,
       "version_minor": 0
      },
      "text/plain": [
       "Relevance:   0%|          | 0/200 [00:00<?, ?it/s]"
      ]
     },
     "metadata": {},
     "output_type": "display_data"
    },
    {
     "name": "stderr",
     "output_type": "stream",
     "text": [
      "\r",
      "shapley interaction index:  82%|████████▏ | 18/22 [01:50<00:24,  6.21s/it]"
     ]
    },
    {
     "data": {
      "application/vnd.jupyter.widget-view+json": {
       "model_id": "481f76e5e0fc439d829a3063645943d8",
       "version_major": 2,
       "version_minor": 0
      },
      "text/plain": [
       "Relevance:   0%|          | 0/200 [00:00<?, ?it/s]"
      ]
     },
     "metadata": {},
     "output_type": "display_data"
    },
    {
     "data": {
      "application/vnd.jupyter.widget-view+json": {
       "model_id": "e18024fecdd84677b38b4c7bb5dc2230",
       "version_major": 2,
       "version_minor": 0
      },
      "text/plain": [
       "Relevance:   0%|          | 0/200 [00:00<?, ?it/s]"
      ]
     },
     "metadata": {},
     "output_type": "display_data"
    },
    {
     "data": {
      "application/vnd.jupyter.widget-view+json": {
       "model_id": "e4c40a34b58f4bcf98390287afdac4c9",
       "version_major": 2,
       "version_minor": 0
      },
      "text/plain": [
       "Relevance:   0%|          | 0/200 [00:00<?, ?it/s]"
      ]
     },
     "metadata": {},
     "output_type": "display_data"
    },
    {
     "name": "stderr",
     "output_type": "stream",
     "text": [
      "\r",
      "shapley interaction index:  86%|████████▋ | 19/22 [01:57<00:18,  6.28s/it]"
     ]
    },
    {
     "data": {
      "application/vnd.jupyter.widget-view+json": {
       "model_id": "7a512d02859f406a84f2569cd9900340",
       "version_major": 2,
       "version_minor": 0
      },
      "text/plain": [
       "Relevance:   0%|          | 0/200 [00:00<?, ?it/s]"
      ]
     },
     "metadata": {},
     "output_type": "display_data"
    },
    {
     "data": {
      "application/vnd.jupyter.widget-view+json": {
       "model_id": "e97c871d815f447b81c632c09178c58e",
       "version_major": 2,
       "version_minor": 0
      },
      "text/plain": [
       "Relevance:   0%|          | 0/200 [00:00<?, ?it/s]"
      ]
     },
     "metadata": {},
     "output_type": "display_data"
    },
    {
     "data": {
      "application/vnd.jupyter.widget-view+json": {
       "model_id": "3fd9760845a74054b02d51565e087fb1",
       "version_major": 2,
       "version_minor": 0
      },
      "text/plain": [
       "Relevance:   0%|          | 0/200 [00:00<?, ?it/s]"
      ]
     },
     "metadata": {},
     "output_type": "display_data"
    },
    {
     "data": {
      "application/vnd.jupyter.widget-view+json": {
       "model_id": "f79a899603224dd9b8af9486358de46d",
       "version_major": 2,
       "version_minor": 0
      },
      "text/plain": [
       "Relevance:   0%|          | 0/200 [00:00<?, ?it/s]"
      ]
     },
     "metadata": {},
     "output_type": "display_data"
    },
    {
     "data": {
      "application/vnd.jupyter.widget-view+json": {
       "model_id": "21bfc8c1f35546fe975b903c16f9d81b",
       "version_major": 2,
       "version_minor": 0
      },
      "text/plain": [
       "Relevance:   0%|          | 0/200 [00:00<?, ?it/s]"
      ]
     },
     "metadata": {},
     "output_type": "display_data"
    },
    {
     "data": {
      "application/vnd.jupyter.widget-view+json": {
       "model_id": "a3ee5e141a834eb88ead5bc2e6a7f80f",
       "version_major": 2,
       "version_minor": 0
      },
      "text/plain": [
       "Relevance:   0%|          | 0/200 [00:00<?, ?it/s]"
      ]
     },
     "metadata": {},
     "output_type": "display_data"
    },
    {
     "data": {
      "application/vnd.jupyter.widget-view+json": {
       "model_id": "f65ffab6e8444b7aae8c9da100993853",
       "version_major": 2,
       "version_minor": 0
      },
      "text/plain": [
       "Relevance:   0%|          | 0/200 [00:00<?, ?it/s]"
      ]
     },
     "metadata": {},
     "output_type": "display_data"
    },
    {
     "name": "stderr",
     "output_type": "stream",
     "text": [
      "\r",
      "shapley interaction index:  95%|█████████▌| 21/22 [02:09<00:06,  6.19s/it]"
     ]
    },
    {
     "data": {
      "application/vnd.jupyter.widget-view+json": {
       "model_id": "eab4e40c755e412e83eff7d6ece5e7f4",
       "version_major": 2,
       "version_minor": 0
      },
      "text/plain": [
       "Relevance:   0%|          | 0/200 [00:00<?, ?it/s]"
      ]
     },
     "metadata": {},
     "output_type": "display_data"
    },
    {
     "data": {
      "application/vnd.jupyter.widget-view+json": {
       "model_id": "77b883096142419a9753cebadd4eb5e3",
       "version_major": 2,
       "version_minor": 0
      },
      "text/plain": [
       "Relevance:   0%|          | 0/200 [00:00<?, ?it/s]"
      ]
     },
     "metadata": {},
     "output_type": "display_data"
    },
    {
     "data": {
      "application/vnd.jupyter.widget-view+json": {
       "model_id": "7db9117c822c447c91505df816db740a",
       "version_major": 2,
       "version_minor": 0
      },
      "text/plain": [
       "Relevance:   0%|          | 0/200 [00:00<?, ?it/s]"
      ]
     },
     "metadata": {},
     "output_type": "display_data"
    },
    {
     "name": "stderr",
     "output_type": "stream",
     "text": [
      "shapley interaction index: 100%|██████████| 22/22 [02:15<00:00,  6.16s/it]\n"
     ]
    },
    {
     "name": "stdout",
     "output_type": "stream",
     "text": [
      "image 1 of 2 total\n"
     ]
    },
    {
     "name": "stderr",
     "output_type": "stream",
     "text": [
      "\r",
      "shapley values:   0%|          | 0/23 [00:00<?, ?it/s]"
     ]
    },
    {
     "data": {
      "application/vnd.jupyter.widget-view+json": {
       "model_id": "461563566c714af090c45de86b7da1c4",
       "version_major": 2,
       "version_minor": 0
      },
      "text/plain": [
       "Relevance:   0%|          | 0/200 [00:00<?, ?it/s]"
      ]
     },
     "metadata": {},
     "output_type": "display_data"
    },
    {
     "data": {
      "application/vnd.jupyter.widget-view+json": {
       "model_id": "5ab024cf80c4446689800aec48a06b92",
       "version_major": 2,
       "version_minor": 0
      },
      "text/plain": [
       "Relevance:   0%|          | 0/200 [00:00<?, ?it/s]"
      ]
     },
     "metadata": {},
     "output_type": "display_data"
    },
    {
     "name": "stderr",
     "output_type": "stream",
     "text": [
      "\r",
      "shapley values:   4%|▍         | 1/23 [00:03<01:10,  3.20s/it]"
     ]
    },
    {
     "data": {
      "application/vnd.jupyter.widget-view+json": {
       "model_id": "0755c53ade634d0b9c45a7a2892e9a7e",
       "version_major": 2,
       "version_minor": 0
      },
      "text/plain": [
       "Relevance:   0%|          | 0/200 [00:00<?, ?it/s]"
      ]
     },
     "metadata": {},
     "output_type": "display_data"
    },
    {
     "name": "stderr",
     "output_type": "stream",
     "text": [
      "\r",
      "shapley values:   9%|▊         | 2/23 [00:06<01:05,  3.13s/it]"
     ]
    },
    {
     "data": {
      "application/vnd.jupyter.widget-view+json": {
       "model_id": "ac00bde95235452b9f4f6d14db50eac5",
       "version_major": 2,
       "version_minor": 0
      },
      "text/plain": [
       "Relevance:   0%|          | 0/200 [00:00<?, ?it/s]"
      ]
     },
     "metadata": {},
     "output_type": "display_data"
    },
    {
     "data": {
      "application/vnd.jupyter.widget-view+json": {
       "model_id": "fd04348224fa417f8d07bd4b56cfb96e",
       "version_major": 2,
       "version_minor": 0
      },
      "text/plain": [
       "Relevance:   0%|          | 0/200 [00:00<?, ?it/s]"
      ]
     },
     "metadata": {},
     "output_type": "display_data"
    },
    {
     "name": "stderr",
     "output_type": "stream",
     "text": [
      "\r",
      "shapley values:  13%|█▎        | 3/23 [00:09<01:03,  3.17s/it]"
     ]
    },
    {
     "data": {
      "application/vnd.jupyter.widget-view+json": {
       "model_id": "58163ee404ff478486886aae3ca61a26",
       "version_major": 2,
       "version_minor": 0
      },
      "text/plain": [
       "Relevance:   0%|          | 0/200 [00:00<?, ?it/s]"
      ]
     },
     "metadata": {},
     "output_type": "display_data"
    },
    {
     "name": "stderr",
     "output_type": "stream",
     "text": [
      "\r",
      "shapley values:  17%|█▋        | 4/23 [00:12<00:59,  3.15s/it]"
     ]
    },
    {
     "data": {
      "application/vnd.jupyter.widget-view+json": {
       "model_id": "a997278f3fdb44c8b4f264fcb5337f68",
       "version_major": 2,
       "version_minor": 0
      },
      "text/plain": [
       "Relevance:   0%|          | 0/200 [00:00<?, ?it/s]"
      ]
     },
     "metadata": {},
     "output_type": "display_data"
    },
    {
     "data": {
      "application/vnd.jupyter.widget-view+json": {
       "model_id": "6a1de3320d3a4972ba0541cff24e5f8a",
       "version_major": 2,
       "version_minor": 0
      },
      "text/plain": [
       "Relevance:   0%|          | 0/200 [00:00<?, ?it/s]"
      ]
     },
     "metadata": {},
     "output_type": "display_data"
    },
    {
     "name": "stderr",
     "output_type": "stream",
     "text": [
      "\r",
      "shapley values:  22%|██▏       | 5/23 [00:15<00:56,  3.15s/it]"
     ]
    },
    {
     "data": {
      "application/vnd.jupyter.widget-view+json": {
       "model_id": "d75669bd5ddc48b998341d3e9a874fc1",
       "version_major": 2,
       "version_minor": 0
      },
      "text/plain": [
       "Relevance:   0%|          | 0/200 [00:00<?, ?it/s]"
      ]
     },
     "metadata": {},
     "output_type": "display_data"
    },
    {
     "data": {
      "application/vnd.jupyter.widget-view+json": {
       "model_id": "daed4e5cb9cb4d42adaff1809bd70191",
       "version_major": 2,
       "version_minor": 0
      },
      "text/plain": [
       "Relevance:   0%|          | 0/200 [00:00<?, ?it/s]"
      ]
     },
     "metadata": {},
     "output_type": "display_data"
    },
    {
     "data": {
      "application/vnd.jupyter.widget-view+json": {
       "model_id": "dcdb6b24a48c4bb1a1997554c7b98c7d",
       "version_major": 2,
       "version_minor": 0
      },
      "text/plain": [
       "Relevance:   0%|          | 0/200 [00:00<?, ?it/s]"
      ]
     },
     "metadata": {},
     "output_type": "display_data"
    },
    {
     "name": "stderr",
     "output_type": "stream",
     "text": [
      "\r",
      "shapley values:  30%|███       | 7/23 [00:22<00:51,  3.22s/it]"
     ]
    },
    {
     "data": {
      "application/vnd.jupyter.widget-view+json": {
       "model_id": "b8c5fbcd509a46bdbbed356dc83719a2",
       "version_major": 2,
       "version_minor": 0
      },
      "text/plain": [
       "Relevance:   0%|          | 0/200 [00:00<?, ?it/s]"
      ]
     },
     "metadata": {},
     "output_type": "display_data"
    },
    {
     "data": {
      "application/vnd.jupyter.widget-view+json": {
       "model_id": "94b13da0f3b34a7a81eb04ba21f317de",
       "version_major": 2,
       "version_minor": 0
      },
      "text/plain": [
       "Relevance:   0%|          | 0/200 [00:00<?, ?it/s]"
      ]
     },
     "metadata": {},
     "output_type": "display_data"
    },
    {
     "data": {
      "application/vnd.jupyter.widget-view+json": {
       "model_id": "e0b49ce29e12423799427857ab6140cc",
       "version_major": 2,
       "version_minor": 0
      },
      "text/plain": [
       "Relevance:   0%|          | 0/200 [00:00<?, ?it/s]"
      ]
     },
     "metadata": {},
     "output_type": "display_data"
    },
    {
     "name": "stderr",
     "output_type": "stream",
     "text": [
      "\r",
      "shapley values:  39%|███▉      | 9/23 [00:28<00:44,  3.17s/it]"
     ]
    },
    {
     "data": {
      "application/vnd.jupyter.widget-view+json": {
       "model_id": "cd6101fa68874066bd84e6a636db980e",
       "version_major": 2,
       "version_minor": 0
      },
      "text/plain": [
       "Relevance:   0%|          | 0/200 [00:00<?, ?it/s]"
      ]
     },
     "metadata": {},
     "output_type": "display_data"
    },
    {
     "name": "stderr",
     "output_type": "stream",
     "text": [
      "\r",
      "shapley values:  43%|████▎     | 10/23 [00:31<00:41,  3.17s/it]"
     ]
    },
    {
     "data": {
      "application/vnd.jupyter.widget-view+json": {
       "model_id": "2f798849b97749ec953e5ba7486e38be",
       "version_major": 2,
       "version_minor": 0
      },
      "text/plain": [
       "Relevance:   0%|          | 0/200 [00:00<?, ?it/s]"
      ]
     },
     "metadata": {},
     "output_type": "display_data"
    },
    {
     "data": {
      "application/vnd.jupyter.widget-view+json": {
       "model_id": "a6dbc1f3589a4c58935f3bc8a8448150",
       "version_major": 2,
       "version_minor": 0
      },
      "text/plain": [
       "Relevance:   0%|          | 0/200 [00:00<?, ?it/s]"
      ]
     },
     "metadata": {},
     "output_type": "display_data"
    },
    {
     "name": "stderr",
     "output_type": "stream",
     "text": [
      "\r",
      "shapley values:  48%|████▊     | 11/23 [00:34<00:37,  3.15s/it]"
     ]
    },
    {
     "data": {
      "application/vnd.jupyter.widget-view+json": {
       "model_id": "5896824549fe4e9492793d324128816b",
       "version_major": 2,
       "version_minor": 0
      },
      "text/plain": [
       "Relevance:   0%|          | 0/200 [00:00<?, ?it/s]"
      ]
     },
     "metadata": {},
     "output_type": "display_data"
    },
    {
     "data": {
      "application/vnd.jupyter.widget-view+json": {
       "model_id": "77f28bb9e6e24a37949bf0963a9e2941",
       "version_major": 2,
       "version_minor": 0
      },
      "text/plain": [
       "Relevance:   0%|          | 0/200 [00:00<?, ?it/s]"
      ]
     },
     "metadata": {},
     "output_type": "display_data"
    },
    {
     "name": "stderr",
     "output_type": "stream",
     "text": [
      "\r",
      "shapley values:  52%|█████▏    | 12/23 [00:37<00:34,  3.12s/it]"
     ]
    },
    {
     "data": {
      "application/vnd.jupyter.widget-view+json": {
       "model_id": "431c85973c3f4616b3c59e8e08b408cd",
       "version_major": 2,
       "version_minor": 0
      },
      "text/plain": [
       "Relevance:   0%|          | 0/200 [00:00<?, ?it/s]"
      ]
     },
     "metadata": {},
     "output_type": "display_data"
    },
    {
     "data": {
      "application/vnd.jupyter.widget-view+json": {
       "model_id": "847d3868be0d45d9854b2d982dd26f84",
       "version_major": 2,
       "version_minor": 0
      },
      "text/plain": [
       "Relevance:   0%|          | 0/200 [00:00<?, ?it/s]"
      ]
     },
     "metadata": {},
     "output_type": "display_data"
    },
    {
     "name": "stderr",
     "output_type": "stream",
     "text": [
      "\r",
      "shapley values:  57%|█████▋    | 13/23 [00:41<00:31,  3.14s/it]"
     ]
    },
    {
     "data": {
      "application/vnd.jupyter.widget-view+json": {
       "model_id": "41f2e39a69cc4f108ec5615c55edf5af",
       "version_major": 2,
       "version_minor": 0
      },
      "text/plain": [
       "Relevance:   0%|          | 0/200 [00:00<?, ?it/s]"
      ]
     },
     "metadata": {},
     "output_type": "display_data"
    },
    {
     "data": {
      "application/vnd.jupyter.widget-view+json": {
       "model_id": "c2124422747b4dde8255120e6c660b75",
       "version_major": 2,
       "version_minor": 0
      },
      "text/plain": [
       "Relevance:   0%|          | 0/200 [00:00<?, ?it/s]"
      ]
     },
     "metadata": {},
     "output_type": "display_data"
    },
    {
     "data": {
      "application/vnd.jupyter.widget-view+json": {
       "model_id": "87a9126db87f4f49952dac32689d00d7",
       "version_major": 2,
       "version_minor": 0
      },
      "text/plain": [
       "Relevance:   0%|          | 0/200 [00:00<?, ?it/s]"
      ]
     },
     "metadata": {},
     "output_type": "display_data"
    },
    {
     "name": "stderr",
     "output_type": "stream",
     "text": [
      "\r",
      "shapley values:  65%|██████▌   | 15/23 [00:47<00:25,  3.16s/it]"
     ]
    },
    {
     "data": {
      "application/vnd.jupyter.widget-view+json": {
       "model_id": "c1000ba31117444b9b1f8442577c59db",
       "version_major": 2,
       "version_minor": 0
      },
      "text/plain": [
       "Relevance:   0%|          | 0/200 [00:00<?, ?it/s]"
      ]
     },
     "metadata": {},
     "output_type": "display_data"
    },
    {
     "data": {
      "application/vnd.jupyter.widget-view+json": {
       "model_id": "f09996d8152d44bdaf6e75d2c7a637f0",
       "version_major": 2,
       "version_minor": 0
      },
      "text/plain": [
       "Relevance:   0%|          | 0/200 [00:00<?, ?it/s]"
      ]
     },
     "metadata": {},
     "output_type": "display_data"
    },
    {
     "name": "stderr",
     "output_type": "stream",
     "text": [
      "\r",
      "shapley values:  74%|███████▍  | 17/23 [00:53<00:18,  3.13s/it]"
     ]
    },
    {
     "data": {
      "application/vnd.jupyter.widget-view+json": {
       "model_id": "b653a67a447d4ba79d57d72d372d1120",
       "version_major": 2,
       "version_minor": 0
      },
      "text/plain": [
       "Relevance:   0%|          | 0/200 [00:00<?, ?it/s]"
      ]
     },
     "metadata": {},
     "output_type": "display_data"
    },
    {
     "data": {
      "application/vnd.jupyter.widget-view+json": {
       "model_id": "46da5346a5784715ab16b72dd96a428d",
       "version_major": 2,
       "version_minor": 0
      },
      "text/plain": [
       "Relevance:   0%|          | 0/200 [00:00<?, ?it/s]"
      ]
     },
     "metadata": {},
     "output_type": "display_data"
    },
    {
     "name": "stderr",
     "output_type": "stream",
     "text": [
      "\r",
      "shapley values:  78%|███████▊  | 18/23 [00:56<00:15,  3.12s/it]"
     ]
    },
    {
     "data": {
      "application/vnd.jupyter.widget-view+json": {
       "model_id": "a7cf0dad12da4ceaa46eb92d71319149",
       "version_major": 2,
       "version_minor": 0
      },
      "text/plain": [
       "Relevance:   0%|          | 0/200 [00:00<?, ?it/s]"
      ]
     },
     "metadata": {},
     "output_type": "display_data"
    },
    {
     "name": "stderr",
     "output_type": "stream",
     "text": [
      "\r",
      "shapley values:  83%|████████▎ | 19/23 [00:59<00:12,  3.09s/it]"
     ]
    },
    {
     "data": {
      "application/vnd.jupyter.widget-view+json": {
       "model_id": "7e8df343d4fd44528f59eed3501b1385",
       "version_major": 2,
       "version_minor": 0
      },
      "text/plain": [
       "Relevance:   0%|          | 0/200 [00:00<?, ?it/s]"
      ]
     },
     "metadata": {},
     "output_type": "display_data"
    },
    {
     "data": {
      "application/vnd.jupyter.widget-view+json": {
       "model_id": "b802613a9db1431097b7b8aaa14cce2a",
       "version_major": 2,
       "version_minor": 0
      },
      "text/plain": [
       "Relevance:   0%|          | 0/200 [00:00<?, ?it/s]"
      ]
     },
     "metadata": {},
     "output_type": "display_data"
    },
    {
     "name": "stderr",
     "output_type": "stream",
     "text": [
      "\r",
      "shapley values:  87%|████████▋ | 20/23 [01:03<00:09,  3.22s/it]"
     ]
    },
    {
     "data": {
      "application/vnd.jupyter.widget-view+json": {
       "model_id": "a769d7237fe94662bcc578aa494d97d8",
       "version_major": 2,
       "version_minor": 0
      },
      "text/plain": [
       "Relevance:   0%|          | 0/200 [00:00<?, ?it/s]"
      ]
     },
     "metadata": {},
     "output_type": "display_data"
    },
    {
     "data": {
      "application/vnd.jupyter.widget-view+json": {
       "model_id": "1a91150ca87542079e17ca398708a34e",
       "version_major": 2,
       "version_minor": 0
      },
      "text/plain": [
       "Relevance:   0%|          | 0/200 [00:00<?, ?it/s]"
      ]
     },
     "metadata": {},
     "output_type": "display_data"
    },
    {
     "name": "stderr",
     "output_type": "stream",
     "text": [
      "\r",
      "shapley values:  91%|█████████▏| 21/23 [01:06<00:06,  3.16s/it]"
     ]
    },
    {
     "data": {
      "application/vnd.jupyter.widget-view+json": {
       "model_id": "3c300c99d7934aacaf8aef53cae096f4",
       "version_major": 2,
       "version_minor": 0
      },
      "text/plain": [
       "Relevance:   0%|          | 0/200 [00:00<?, ?it/s]"
      ]
     },
     "metadata": {},
     "output_type": "display_data"
    },
    {
     "data": {
      "application/vnd.jupyter.widget-view+json": {
       "model_id": "0c6378473e9f4363973835c4312c4f8e",
       "version_major": 2,
       "version_minor": 0
      },
      "text/plain": [
       "Relevance:   0%|          | 0/200 [00:00<?, ?it/s]"
      ]
     },
     "metadata": {},
     "output_type": "display_data"
    },
    {
     "name": "stderr",
     "output_type": "stream",
     "text": [
      "\r",
      "shapley values:  96%|█████████▌| 22/23 [01:09<00:03,  3.14s/it]"
     ]
    },
    {
     "data": {
      "application/vnd.jupyter.widget-view+json": {
       "model_id": "fe649b60c99b44b3ad068ed451dbc9dc",
       "version_major": 2,
       "version_minor": 0
      },
      "text/plain": [
       "Relevance:   0%|          | 0/200 [00:00<?, ?it/s]"
      ]
     },
     "metadata": {},
     "output_type": "display_data"
    },
    {
     "data": {
      "application/vnd.jupyter.widget-view+json": {
       "model_id": "87f80d3da9ff430d87eefd8bd05634b2",
       "version_major": 2,
       "version_minor": 0
      },
      "text/plain": [
       "Relevance:   0%|          | 0/200 [00:00<?, ?it/s]"
      ]
     },
     "metadata": {},
     "output_type": "display_data"
    },
    {
     "name": "stderr",
     "output_type": "stream",
     "text": [
      "shapley values: 100%|██████████| 23/23 [01:12<00:00,  3.15s/it]\n",
      "shapley interaction index:   0%|          | 0/22 [00:00<?, ?it/s]"
     ]
    },
    {
     "data": {
      "application/vnd.jupyter.widget-view+json": {
       "model_id": "1484fe8205034ab7a954122d73a9eb1e",
       "version_major": 2,
       "version_minor": 0
      },
      "text/plain": [
       "Relevance:   0%|          | 0/200 [00:00<?, ?it/s]"
      ]
     },
     "metadata": {},
     "output_type": "display_data"
    },
    {
     "data": {
      "application/vnd.jupyter.widget-view+json": {
       "model_id": "6a1e3b0920284bd98f7b6fdc0a78f0cc",
       "version_major": 2,
       "version_minor": 0
      },
      "text/plain": [
       "Relevance:   0%|          | 0/200 [00:00<?, ?it/s]"
      ]
     },
     "metadata": {},
     "output_type": "display_data"
    },
    {
     "data": {
      "application/vnd.jupyter.widget-view+json": {
       "model_id": "4797f954db4b43418bfcc31de76b6887",
       "version_major": 2,
       "version_minor": 0
      },
      "text/plain": [
       "Relevance:   0%|          | 0/200 [00:00<?, ?it/s]"
      ]
     },
     "metadata": {},
     "output_type": "display_data"
    },
    {
     "data": {
      "application/vnd.jupyter.widget-view+json": {
       "model_id": "02655957258c428e9d0104a480ea4472",
       "version_major": 2,
       "version_minor": 0
      },
      "text/plain": [
       "Relevance:   0%|          | 0/200 [00:00<?, ?it/s]"
      ]
     },
     "metadata": {},
     "output_type": "display_data"
    },
    {
     "name": "stderr",
     "output_type": "stream",
     "text": [
      "\r",
      "shapley interaction index:   5%|▍         | 1/22 [00:06<02:14,  6.38s/it]"
     ]
    },
    {
     "data": {
      "application/vnd.jupyter.widget-view+json": {
       "model_id": "585b02ba900040098fb58ce46e5102fe",
       "version_major": 2,
       "version_minor": 0
      },
      "text/plain": [
       "Relevance:   0%|          | 0/200 [00:00<?, ?it/s]"
      ]
     },
     "metadata": {},
     "output_type": "display_data"
    },
    {
     "data": {
      "application/vnd.jupyter.widget-view+json": {
       "model_id": "99cd7739c5f9446082f71369fd2ddb6d",
       "version_major": 2,
       "version_minor": 0
      },
      "text/plain": [
       "Relevance:   0%|          | 0/200 [00:00<?, ?it/s]"
      ]
     },
     "metadata": {},
     "output_type": "display_data"
    },
    {
     "data": {
      "application/vnd.jupyter.widget-view+json": {
       "model_id": "8773476d1e364d47ab7484f3149b4c79",
       "version_major": 2,
       "version_minor": 0
      },
      "text/plain": [
       "Relevance:   0%|          | 0/200 [00:00<?, ?it/s]"
      ]
     },
     "metadata": {},
     "output_type": "display_data"
    },
    {
     "name": "stderr",
     "output_type": "stream",
     "text": [
      "\r",
      "shapley interaction index:   9%|▉         | 2/22 [00:12<02:08,  6.43s/it]"
     ]
    },
    {
     "data": {
      "application/vnd.jupyter.widget-view+json": {
       "model_id": "b009ff8cf4e84e54a931b9dacb4363ac",
       "version_major": 2,
       "version_minor": 0
      },
      "text/plain": [
       "Relevance:   0%|          | 0/200 [00:00<?, ?it/s]"
      ]
     },
     "metadata": {},
     "output_type": "display_data"
    },
    {
     "data": {
      "application/vnd.jupyter.widget-view+json": {
       "model_id": "797d8d5d44ab497cb099c143a66f47b2",
       "version_major": 2,
       "version_minor": 0
      },
      "text/plain": [
       "Relevance:   0%|          | 0/200 [00:00<?, ?it/s]"
      ]
     },
     "metadata": {},
     "output_type": "display_data"
    },
    {
     "data": {
      "application/vnd.jupyter.widget-view+json": {
       "model_id": "c7ed45826ba145d0908fd5f69eca583a",
       "version_major": 2,
       "version_minor": 0
      },
      "text/plain": [
       "Relevance:   0%|          | 0/200 [00:00<?, ?it/s]"
      ]
     },
     "metadata": {},
     "output_type": "display_data"
    },
    {
     "data": {
      "application/vnd.jupyter.widget-view+json": {
       "model_id": "9d412a3d5cba46bdbcf4033abbc61496",
       "version_major": 2,
       "version_minor": 0
      },
      "text/plain": [
       "Relevance:   0%|          | 0/200 [00:00<?, ?it/s]"
      ]
     },
     "metadata": {},
     "output_type": "display_data"
    },
    {
     "name": "stderr",
     "output_type": "stream",
     "text": [
      "\r",
      "shapley interaction index:  14%|█▎        | 3/22 [00:19<02:00,  6.36s/it]"
     ]
    },
    {
     "data": {
      "application/vnd.jupyter.widget-view+json": {
       "model_id": "d9303861437840ecab42e288fd8451e4",
       "version_major": 2,
       "version_minor": 0
      },
      "text/plain": [
       "Relevance:   0%|          | 0/200 [00:00<?, ?it/s]"
      ]
     },
     "metadata": {},
     "output_type": "display_data"
    },
    {
     "data": {
      "application/vnd.jupyter.widget-view+json": {
       "model_id": "5afaae39dd504731bc4ac2b6343552d1",
       "version_major": 2,
       "version_minor": 0
      },
      "text/plain": [
       "Relevance:   0%|          | 0/200 [00:00<?, ?it/s]"
      ]
     },
     "metadata": {},
     "output_type": "display_data"
    },
    {
     "name": "stderr",
     "output_type": "stream",
     "text": [
      "\r",
      "shapley interaction index:  18%|█▊        | 4/22 [00:25<01:53,  6.30s/it]"
     ]
    },
    {
     "data": {
      "application/vnd.jupyter.widget-view+json": {
       "model_id": "71112cfa0f90463f9a6a90981ed71c44",
       "version_major": 2,
       "version_minor": 0
      },
      "text/plain": [
       "Relevance:   0%|          | 0/200 [00:00<?, ?it/s]"
      ]
     },
     "metadata": {},
     "output_type": "display_data"
    },
    {
     "data": {
      "application/vnd.jupyter.widget-view+json": {
       "model_id": "1c1c27cd8a8b495b8ce57fd3898264e9",
       "version_major": 2,
       "version_minor": 0
      },
      "text/plain": [
       "Relevance:   0%|          | 0/200 [00:00<?, ?it/s]"
      ]
     },
     "metadata": {},
     "output_type": "display_data"
    },
    {
     "data": {
      "application/vnd.jupyter.widget-view+json": {
       "model_id": "c2a61e4137b34650b14e990012a9169f",
       "version_major": 2,
       "version_minor": 0
      },
      "text/plain": [
       "Relevance:   0%|          | 0/200 [00:00<?, ?it/s]"
      ]
     },
     "metadata": {},
     "output_type": "display_data"
    },
    {
     "name": "stderr",
     "output_type": "stream",
     "text": [
      "\r",
      "shapley interaction index:  23%|██▎       | 5/22 [00:31<01:46,  6.28s/it]"
     ]
    },
    {
     "data": {
      "application/vnd.jupyter.widget-view+json": {
       "model_id": "a63ec2df4b5f458e8ea154a4fdd1d619",
       "version_major": 2,
       "version_minor": 0
      },
      "text/plain": [
       "Relevance:   0%|          | 0/200 [00:00<?, ?it/s]"
      ]
     },
     "metadata": {},
     "output_type": "display_data"
    },
    {
     "data": {
      "application/vnd.jupyter.widget-view+json": {
       "model_id": "7db8f69a5b024806bf0e6fdca505d338",
       "version_major": 2,
       "version_minor": 0
      },
      "text/plain": [
       "Relevance:   0%|          | 0/200 [00:00<?, ?it/s]"
      ]
     },
     "metadata": {},
     "output_type": "display_data"
    },
    {
     "data": {
      "application/vnd.jupyter.widget-view+json": {
       "model_id": "9d49d17ddd7a4168aa75c1c4544db2d6",
       "version_major": 2,
       "version_minor": 0
      },
      "text/plain": [
       "Relevance:   0%|          | 0/200 [00:00<?, ?it/s]"
      ]
     },
     "metadata": {},
     "output_type": "display_data"
    },
    {
     "name": "stderr",
     "output_type": "stream",
     "text": [
      "\r",
      "shapley interaction index:  27%|██▋       | 6/22 [00:37<01:39,  6.23s/it]"
     ]
    },
    {
     "data": {
      "application/vnd.jupyter.widget-view+json": {
       "model_id": "5f691248f72a492b8b18de79b9301da3",
       "version_major": 2,
       "version_minor": 0
      },
      "text/plain": [
       "Relevance:   0%|          | 0/200 [00:00<?, ?it/s]"
      ]
     },
     "metadata": {},
     "output_type": "display_data"
    },
    {
     "data": {
      "application/vnd.jupyter.widget-view+json": {
       "model_id": "ebff9377b00546ed83b9b38e73e59274",
       "version_major": 2,
       "version_minor": 0
      },
      "text/plain": [
       "Relevance:   0%|          | 0/200 [00:00<?, ?it/s]"
      ]
     },
     "metadata": {},
     "output_type": "display_data"
    },
    {
     "data": {
      "application/vnd.jupyter.widget-view+json": {
       "model_id": "8965563284834093bf20a1d9f0c4e8a7",
       "version_major": 2,
       "version_minor": 0
      },
      "text/plain": [
       "Relevance:   0%|          | 0/200 [00:00<?, ?it/s]"
      ]
     },
     "metadata": {},
     "output_type": "display_data"
    },
    {
     "data": {
      "application/vnd.jupyter.widget-view+json": {
       "model_id": "2dd328f84ee244428742d2bf05600ca2",
       "version_major": 2,
       "version_minor": 0
      },
      "text/plain": [
       "Relevance:   0%|          | 0/200 [00:00<?, ?it/s]"
      ]
     },
     "metadata": {},
     "output_type": "display_data"
    },
    {
     "name": "stderr",
     "output_type": "stream",
     "text": [
      "\r",
      "shapley interaction index:  32%|███▏      | 7/22 [00:43<01:33,  6.24s/it]"
     ]
    },
    {
     "data": {
      "application/vnd.jupyter.widget-view+json": {
       "model_id": "fbb27578339a400098ff89a6b32c3df6",
       "version_major": 2,
       "version_minor": 0
      },
      "text/plain": [
       "Relevance:   0%|          | 0/200 [00:00<?, ?it/s]"
      ]
     },
     "metadata": {},
     "output_type": "display_data"
    },
    {
     "data": {
      "application/vnd.jupyter.widget-view+json": {
       "model_id": "6aa6eb7df0914610b1aabd10e4e708e9",
       "version_major": 2,
       "version_minor": 0
      },
      "text/plain": [
       "Relevance:   0%|          | 0/200 [00:00<?, ?it/s]"
      ]
     },
     "metadata": {},
     "output_type": "display_data"
    },
    {
     "data": {
      "application/vnd.jupyter.widget-view+json": {
       "model_id": "fc0e7ffe7a2741c7807fccba1e3ddf0b",
       "version_major": 2,
       "version_minor": 0
      },
      "text/plain": [
       "Relevance:   0%|          | 0/200 [00:00<?, ?it/s]"
      ]
     },
     "metadata": {},
     "output_type": "display_data"
    },
    {
     "data": {
      "application/vnd.jupyter.widget-view+json": {
       "model_id": "3d6330d6d946435aa3ba6a7a81f5063e",
       "version_major": 2,
       "version_minor": 0
      },
      "text/plain": [
       "Relevance:   0%|          | 0/200 [00:00<?, ?it/s]"
      ]
     },
     "metadata": {},
     "output_type": "display_data"
    },
    {
     "name": "stderr",
     "output_type": "stream",
     "text": [
      "\r",
      "shapley interaction index:  36%|███▋      | 8/22 [00:50<01:30,  6.45s/it]"
     ]
    },
    {
     "data": {
      "application/vnd.jupyter.widget-view+json": {
       "model_id": "5d5606ad2d4a42b4950b43b20f266dfd",
       "version_major": 2,
       "version_minor": 0
      },
      "text/plain": [
       "Relevance:   0%|          | 0/200 [00:00<?, ?it/s]"
      ]
     },
     "metadata": {},
     "output_type": "display_data"
    },
    {
     "data": {
      "application/vnd.jupyter.widget-view+json": {
       "model_id": "5472799553ac4ab0b0c9f3e82c016d8a",
       "version_major": 2,
       "version_minor": 0
      },
      "text/plain": [
       "Relevance:   0%|          | 0/200 [00:00<?, ?it/s]"
      ]
     },
     "metadata": {},
     "output_type": "display_data"
    },
    {
     "data": {
      "application/vnd.jupyter.widget-view+json": {
       "model_id": "0b71ae877519467da5854612e097951d",
       "version_major": 2,
       "version_minor": 0
      },
      "text/plain": [
       "Relevance:   0%|          | 0/200 [00:00<?, ?it/s]"
      ]
     },
     "metadata": {},
     "output_type": "display_data"
    },
    {
     "name": "stderr",
     "output_type": "stream",
     "text": [
      "\r",
      "shapley interaction index:  41%|████      | 9/22 [00:57<01:23,  6.41s/it]"
     ]
    },
    {
     "data": {
      "application/vnd.jupyter.widget-view+json": {
       "model_id": "bda99bd64b0b449fbcc8ba176ecd21da",
       "version_major": 2,
       "version_minor": 0
      },
      "text/plain": [
       "Relevance:   0%|          | 0/200 [00:00<?, ?it/s]"
      ]
     },
     "metadata": {},
     "output_type": "display_data"
    },
    {
     "data": {
      "application/vnd.jupyter.widget-view+json": {
       "model_id": "38d936d0c54a40dab547e643d85a86e6",
       "version_major": 2,
       "version_minor": 0
      },
      "text/plain": [
       "Relevance:   0%|          | 0/200 [00:00<?, ?it/s]"
      ]
     },
     "metadata": {},
     "output_type": "display_data"
    },
    {
     "data": {
      "application/vnd.jupyter.widget-view+json": {
       "model_id": "116af03549e24044b31fc8fce89f3d6b",
       "version_major": 2,
       "version_minor": 0
      },
      "text/plain": [
       "Relevance:   0%|          | 0/200 [00:00<?, ?it/s]"
      ]
     },
     "metadata": {},
     "output_type": "display_data"
    },
    {
     "name": "stderr",
     "output_type": "stream",
     "text": [
      "\r",
      "shapley interaction index:  45%|████▌     | 10/22 [01:03<01:16,  6.34s/it]"
     ]
    },
    {
     "data": {
      "application/vnd.jupyter.widget-view+json": {
       "model_id": "bd8a7c2830be4e92b379b10236c90f14",
       "version_major": 2,
       "version_minor": 0
      },
      "text/plain": [
       "Relevance:   0%|          | 0/200 [00:00<?, ?it/s]"
      ]
     },
     "metadata": {},
     "output_type": "display_data"
    },
    {
     "data": {
      "application/vnd.jupyter.widget-view+json": {
       "model_id": "14af0bfd2ae1401c9d714db4fabe0d8a",
       "version_major": 2,
       "version_minor": 0
      },
      "text/plain": [
       "Relevance:   0%|          | 0/200 [00:00<?, ?it/s]"
      ]
     },
     "metadata": {},
     "output_type": "display_data"
    },
    {
     "data": {
      "application/vnd.jupyter.widget-view+json": {
       "model_id": "ea865aeef5574a8eb9cd0928641ff3fb",
       "version_major": 2,
       "version_minor": 0
      },
      "text/plain": [
       "Relevance:   0%|          | 0/200 [00:00<?, ?it/s]"
      ]
     },
     "metadata": {},
     "output_type": "display_data"
    },
    {
     "data": {
      "application/vnd.jupyter.widget-view+json": {
       "model_id": "ebedb556796340029bca43199d16481f",
       "version_major": 2,
       "version_minor": 0
      },
      "text/plain": [
       "Relevance:   0%|          | 0/200 [00:00<?, ?it/s]"
      ]
     },
     "metadata": {},
     "output_type": "display_data"
    },
    {
     "name": "stderr",
     "output_type": "stream",
     "text": [
      "\r",
      "shapley interaction index:  50%|█████     | 11/22 [01:09<01:09,  6.34s/it]"
     ]
    },
    {
     "data": {
      "application/vnd.jupyter.widget-view+json": {
       "model_id": "c6dc2deebe54448ba18d5a429543d50e",
       "version_major": 2,
       "version_minor": 0
      },
      "text/plain": [
       "Relevance:   0%|          | 0/200 [00:00<?, ?it/s]"
      ]
     },
     "metadata": {},
     "output_type": "display_data"
    },
    {
     "data": {
      "application/vnd.jupyter.widget-view+json": {
       "model_id": "e492eab53c1543dc855a0dd0dc9701c5",
       "version_major": 2,
       "version_minor": 0
      },
      "text/plain": [
       "Relevance:   0%|          | 0/200 [00:00<?, ?it/s]"
      ]
     },
     "metadata": {},
     "output_type": "display_data"
    },
    {
     "data": {
      "application/vnd.jupyter.widget-view+json": {
       "model_id": "a8f66685c8144c79afe6e5c779ba6271",
       "version_major": 2,
       "version_minor": 0
      },
      "text/plain": [
       "Relevance:   0%|          | 0/200 [00:00<?, ?it/s]"
      ]
     },
     "metadata": {},
     "output_type": "display_data"
    },
    {
     "name": "stderr",
     "output_type": "stream",
     "text": [
      "\r",
      "shapley interaction index:  55%|█████▍    | 12/22 [01:16<01:03,  6.35s/it]"
     ]
    },
    {
     "data": {
      "application/vnd.jupyter.widget-view+json": {
       "model_id": "4c60c21c52544c5cbeb6d7b39e6ee992",
       "version_major": 2,
       "version_minor": 0
      },
      "text/plain": [
       "Relevance:   0%|          | 0/200 [00:00<?, ?it/s]"
      ]
     },
     "metadata": {},
     "output_type": "display_data"
    },
    {
     "data": {
      "application/vnd.jupyter.widget-view+json": {
       "model_id": "a5db77d22bf34d0daea52b1f33e5a2be",
       "version_major": 2,
       "version_minor": 0
      },
      "text/plain": [
       "Relevance:   0%|          | 0/200 [00:00<?, ?it/s]"
      ]
     },
     "metadata": {},
     "output_type": "display_data"
    },
    {
     "data": {
      "application/vnd.jupyter.widget-view+json": {
       "model_id": "8f27913871314fca8599d2e7ff06479b",
       "version_major": 2,
       "version_minor": 0
      },
      "text/plain": [
       "Relevance:   0%|          | 0/200 [00:00<?, ?it/s]"
      ]
     },
     "metadata": {},
     "output_type": "display_data"
    },
    {
     "name": "stderr",
     "output_type": "stream",
     "text": [
      "\r",
      "shapley interaction index:  59%|█████▉    | 13/22 [01:22<00:57,  6.34s/it]"
     ]
    },
    {
     "data": {
      "application/vnd.jupyter.widget-view+json": {
       "model_id": "f578acadfa3349e39b9a4e6681d6e645",
       "version_major": 2,
       "version_minor": 0
      },
      "text/plain": [
       "Relevance:   0%|          | 0/200 [00:00<?, ?it/s]"
      ]
     },
     "metadata": {},
     "output_type": "display_data"
    },
    {
     "data": {
      "application/vnd.jupyter.widget-view+json": {
       "model_id": "55c6bb68a16e4c8b94ed916b4fa82501",
       "version_major": 2,
       "version_minor": 0
      },
      "text/plain": [
       "Relevance:   0%|          | 0/200 [00:00<?, ?it/s]"
      ]
     },
     "metadata": {},
     "output_type": "display_data"
    },
    {
     "data": {
      "application/vnd.jupyter.widget-view+json": {
       "model_id": "17812bd8f3c6455faf7fd9a4bddbfff0",
       "version_major": 2,
       "version_minor": 0
      },
      "text/plain": [
       "Relevance:   0%|          | 0/200 [00:00<?, ?it/s]"
      ]
     },
     "metadata": {},
     "output_type": "display_data"
    },
    {
     "data": {
      "application/vnd.jupyter.widget-view+json": {
       "model_id": "135cfa09a94148d992d2d3e900859325",
       "version_major": 2,
       "version_minor": 0
      },
      "text/plain": [
       "Relevance:   0%|          | 0/200 [00:00<?, ?it/s]"
      ]
     },
     "metadata": {},
     "output_type": "display_data"
    },
    {
     "name": "stderr",
     "output_type": "stream",
     "text": [
      "\r",
      "shapley interaction index:  64%|██████▎   | 14/22 [01:28<00:50,  6.31s/it]"
     ]
    },
    {
     "data": {
      "application/vnd.jupyter.widget-view+json": {
       "model_id": "8e8deceb1f26420c8fa485fad6764231",
       "version_major": 2,
       "version_minor": 0
      },
      "text/plain": [
       "Relevance:   0%|          | 0/200 [00:00<?, ?it/s]"
      ]
     },
     "metadata": {},
     "output_type": "display_data"
    },
    {
     "data": {
      "application/vnd.jupyter.widget-view+json": {
       "model_id": "6da95aca9a5c4cdca20ca721e589f078",
       "version_major": 2,
       "version_minor": 0
      },
      "text/plain": [
       "Relevance:   0%|          | 0/200 [00:00<?, ?it/s]"
      ]
     },
     "metadata": {},
     "output_type": "display_data"
    },
    {
     "data": {
      "application/vnd.jupyter.widget-view+json": {
       "model_id": "0f3225652b2e4b84b59f839a39ad25cb",
       "version_major": 2,
       "version_minor": 0
      },
      "text/plain": [
       "Relevance:   0%|          | 0/200 [00:00<?, ?it/s]"
      ]
     },
     "metadata": {},
     "output_type": "display_data"
    },
    {
     "name": "stderr",
     "output_type": "stream",
     "text": [
      "\r",
      "shapley interaction index:  68%|██████▊   | 15/22 [01:34<00:43,  6.27s/it]"
     ]
    },
    {
     "data": {
      "application/vnd.jupyter.widget-view+json": {
       "model_id": "7a74b3b81a6745efb02957bc544946d4",
       "version_major": 2,
       "version_minor": 0
      },
      "text/plain": [
       "Relevance:   0%|          | 0/200 [00:00<?, ?it/s]"
      ]
     },
     "metadata": {},
     "output_type": "display_data"
    },
    {
     "data": {
      "application/vnd.jupyter.widget-view+json": {
       "model_id": "3c6577765a694367a92ba50ee02970d7",
       "version_major": 2,
       "version_minor": 0
      },
      "text/plain": [
       "Relevance:   0%|          | 0/200 [00:00<?, ?it/s]"
      ]
     },
     "metadata": {},
     "output_type": "display_data"
    },
    {
     "name": "stderr",
     "output_type": "stream",
     "text": [
      "\r",
      "shapley interaction index:  73%|███████▎  | 16/22 [01:40<00:37,  6.22s/it]"
     ]
    },
    {
     "data": {
      "application/vnd.jupyter.widget-view+json": {
       "model_id": "6bba335c22c6482bb27329bb01482f42",
       "version_major": 2,
       "version_minor": 0
      },
      "text/plain": [
       "Relevance:   0%|          | 0/200 [00:00<?, ?it/s]"
      ]
     },
     "metadata": {},
     "output_type": "display_data"
    },
    {
     "data": {
      "application/vnd.jupyter.widget-view+json": {
       "model_id": "99a81049e5894116990b7679fe0e37d7",
       "version_major": 2,
       "version_minor": 0
      },
      "text/plain": [
       "Relevance:   0%|          | 0/200 [00:00<?, ?it/s]"
      ]
     },
     "metadata": {},
     "output_type": "display_data"
    },
    {
     "data": {
      "application/vnd.jupyter.widget-view+json": {
       "model_id": "8c7d1919a12d4ae3832f1a4f62f16343",
       "version_major": 2,
       "version_minor": 0
      },
      "text/plain": [
       "Relevance:   0%|          | 0/200 [00:00<?, ?it/s]"
      ]
     },
     "metadata": {},
     "output_type": "display_data"
    },
    {
     "name": "stderr",
     "output_type": "stream",
     "text": [
      "\r",
      "shapley interaction index:  77%|███████▋  | 17/22 [01:46<00:30,  6.18s/it]"
     ]
    },
    {
     "data": {
      "application/vnd.jupyter.widget-view+json": {
       "model_id": "e5caa86eff604ffd9d8e5f4f752ba0e8",
       "version_major": 2,
       "version_minor": 0
      },
      "text/plain": [
       "Relevance:   0%|          | 0/200 [00:00<?, ?it/s]"
      ]
     },
     "metadata": {},
     "output_type": "display_data"
    },
    {
     "data": {
      "application/vnd.jupyter.widget-view+json": {
       "model_id": "2de4f25a48f842be9907e8d16d7c5d62",
       "version_major": 2,
       "version_minor": 0
      },
      "text/plain": [
       "Relevance:   0%|          | 0/200 [00:00<?, ?it/s]"
      ]
     },
     "metadata": {},
     "output_type": "display_data"
    },
    {
     "data": {
      "application/vnd.jupyter.widget-view+json": {
       "model_id": "c3218f870f2243458bc23fe6979361cc",
       "version_major": 2,
       "version_minor": 0
      },
      "text/plain": [
       "Relevance:   0%|          | 0/200 [00:00<?, ?it/s]"
      ]
     },
     "metadata": {},
     "output_type": "display_data"
    },
    {
     "name": "stderr",
     "output_type": "stream",
     "text": [
      "\r",
      "shapley interaction index:  82%|████████▏ | 18/22 [01:53<00:25,  6.27s/it]"
     ]
    },
    {
     "data": {
      "application/vnd.jupyter.widget-view+json": {
       "model_id": "86254fcc22bd413b812f76ba02d1c875",
       "version_major": 2,
       "version_minor": 0
      },
      "text/plain": [
       "Relevance:   0%|          | 0/200 [00:00<?, ?it/s]"
      ]
     },
     "metadata": {},
     "output_type": "display_data"
    },
    {
     "data": {
      "application/vnd.jupyter.widget-view+json": {
       "model_id": "4cc0dfd6972d4db88e125f347efdaa82",
       "version_major": 2,
       "version_minor": 0
      },
      "text/plain": [
       "Relevance:   0%|          | 0/200 [00:00<?, ?it/s]"
      ]
     },
     "metadata": {},
     "output_type": "display_data"
    },
    {
     "data": {
      "application/vnd.jupyter.widget-view+json": {
       "model_id": "f291959d0c584f4489a003fa32248378",
       "version_major": 2,
       "version_minor": 0
      },
      "text/plain": [
       "Relevance:   0%|          | 0/200 [00:00<?, ?it/s]"
      ]
     },
     "metadata": {},
     "output_type": "display_data"
    },
    {
     "name": "stderr",
     "output_type": "stream",
     "text": [
      "\r",
      "shapley interaction index:  86%|████████▋ | 19/22 [01:59<00:18,  6.28s/it]"
     ]
    },
    {
     "data": {
      "application/vnd.jupyter.widget-view+json": {
       "model_id": "0b12e2923dba4077b7e81b328133a732",
       "version_major": 2,
       "version_minor": 0
      },
      "text/plain": [
       "Relevance:   0%|          | 0/200 [00:00<?, ?it/s]"
      ]
     },
     "metadata": {},
     "output_type": "display_data"
    },
    {
     "data": {
      "application/vnd.jupyter.widget-view+json": {
       "model_id": "c1ddbff0357c40c08e176fe90da3f638",
       "version_major": 2,
       "version_minor": 0
      },
      "text/plain": [
       "Relevance:   0%|          | 0/200 [00:00<?, ?it/s]"
      ]
     },
     "metadata": {},
     "output_type": "display_data"
    },
    {
     "data": {
      "application/vnd.jupyter.widget-view+json": {
       "model_id": "ebde9a208db24d588c0254b64d85c078",
       "version_major": 2,
       "version_minor": 0
      },
      "text/plain": [
       "Relevance:   0%|          | 0/200 [00:00<?, ?it/s]"
      ]
     },
     "metadata": {},
     "output_type": "display_data"
    },
    {
     "data": {
      "application/vnd.jupyter.widget-view+json": {
       "model_id": "d95a8c5b497146eb938bad506e05f739",
       "version_major": 2,
       "version_minor": 0
      },
      "text/plain": [
       "Relevance:   0%|          | 0/200 [00:00<?, ?it/s]"
      ]
     },
     "metadata": {},
     "output_type": "display_data"
    },
    {
     "name": "stderr",
     "output_type": "stream",
     "text": [
      "\r",
      "shapley interaction index:  91%|█████████ | 20/22 [02:05<00:12,  6.26s/it]"
     ]
    },
    {
     "data": {
      "application/vnd.jupyter.widget-view+json": {
       "model_id": "2717d2fe3555468ba6cd1d691f85ba25",
       "version_major": 2,
       "version_minor": 0
      },
      "text/plain": [
       "Relevance:   0%|          | 0/200 [00:00<?, ?it/s]"
      ]
     },
     "metadata": {},
     "output_type": "display_data"
    },
    {
     "data": {
      "application/vnd.jupyter.widget-view+json": {
       "model_id": "3db1d04296814c18a0811843322c084d",
       "version_major": 2,
       "version_minor": 0
      },
      "text/plain": [
       "Relevance:   0%|          | 0/200 [00:00<?, ?it/s]"
      ]
     },
     "metadata": {},
     "output_type": "display_data"
    },
    {
     "data": {
      "application/vnd.jupyter.widget-view+json": {
       "model_id": "e902887e59ee40b7932a977e80f64a68",
       "version_major": 2,
       "version_minor": 0
      },
      "text/plain": [
       "Relevance:   0%|          | 0/200 [00:00<?, ?it/s]"
      ]
     },
     "metadata": {},
     "output_type": "display_data"
    },
    {
     "data": {
      "application/vnd.jupyter.widget-view+json": {
       "model_id": "8155e8b581954501ba517e289f3a1a20",
       "version_major": 2,
       "version_minor": 0
      },
      "text/plain": [
       "Relevance:   0%|          | 0/200 [00:00<?, ?it/s]"
      ]
     },
     "metadata": {},
     "output_type": "display_data"
    },
    {
     "name": "stderr",
     "output_type": "stream",
     "text": [
      "\r",
      "shapley interaction index:  95%|█████████▌| 21/22 [02:12<00:06,  6.23s/it]"
     ]
    },
    {
     "data": {
      "application/vnd.jupyter.widget-view+json": {
       "model_id": "868c4dbf1dc447a0bf73e056ce5e7882",
       "version_major": 2,
       "version_minor": 0
      },
      "text/plain": [
       "Relevance:   0%|          | 0/200 [00:00<?, ?it/s]"
      ]
     },
     "metadata": {},
     "output_type": "display_data"
    },
    {
     "data": {
      "application/vnd.jupyter.widget-view+json": {
       "model_id": "520cef3153bc46adad10c4d8f840ca65",
       "version_major": 2,
       "version_minor": 0
      },
      "text/plain": [
       "Relevance:   0%|          | 0/200 [00:00<?, ?it/s]"
      ]
     },
     "metadata": {},
     "output_type": "display_data"
    },
    {
     "data": {
      "application/vnd.jupyter.widget-view+json": {
       "model_id": "f1c57a372a0c464d881484a9a5b83656",
       "version_major": 2,
       "version_minor": 0
      },
      "text/plain": [
       "Relevance:   0%|          | 0/200 [00:00<?, ?it/s]"
      ]
     },
     "metadata": {},
     "output_type": "display_data"
    },
    {
     "data": {
      "application/vnd.jupyter.widget-view+json": {
       "model_id": "3d58bfe247464b5a9080b0805b2fec5b",
       "version_major": 2,
       "version_minor": 0
      },
      "text/plain": [
       "Relevance:   0%|          | 0/200 [00:00<?, ?it/s]"
      ]
     },
     "metadata": {},
     "output_type": "display_data"
    },
    {
     "name": "stderr",
     "output_type": "stream",
     "text": [
      "shapley interaction index: 100%|██████████| 22/22 [02:18<00:00,  6.29s/it]"
     ]
    },
    {
     "name": "stdout",
     "output_type": "stream",
     "text": [
      "[14 10]\n"
     ]
    },
    {
     "name": "stderr",
     "output_type": "stream",
     "text": [
      "\n"
     ]
    }
   ],
   "source": [
    "dict_mnist = calculate_attributions_mnist(args=args)"
   ]
  },
  {
   "cell_type": "code",
   "execution_count": 19,
   "metadata": {
    "scrolled": true
   },
   "outputs": [
    {
     "data": {
      "image/png": "[encoded data removed]",
      "text/plain": [
       "<Figure size 276.253x119.514 with 4 Axes>"
      ]
     },
     "metadata": {},
     "output_type": "display_data"
    },
    {
     "data": {
      "image/png": "[encoded data removed]",
      "text/plain": [
       "<Figure size 276.253x119.514 with 4 Axes>"
      ]
     },
     "metadata": {},
     "output_type": "display_data"
    }
   ],
   "source": [
    "visualize_mnist_attributions(dict_mnist=dict_mnist)"
   ]
  },
  {
   "cell_type": "code",
   "execution_count": null,
   "metadata": {},
   "outputs": [],
   "source": []
  }
 ],
 "metadata": {
  "kernelspec": {
   "display_name": "Python [conda env:pred_diff]",
   "language": "python",
   "name": "conda-env-pred_diff-py"
  },
  "language_info": {
   "codemirror_mode": {
    "name": "ipython",
    "version": 3
   },
   "file_extension": ".py",
   "mimetype": "text/x-python",
   "name": "python",
   "nbconvert_exporter": "python",
   "pygments_lexer": "ipython3",
   "version": "3.8.10"
  }
 },
 "nbformat": 4,
 "nbformat_minor": 1
}
